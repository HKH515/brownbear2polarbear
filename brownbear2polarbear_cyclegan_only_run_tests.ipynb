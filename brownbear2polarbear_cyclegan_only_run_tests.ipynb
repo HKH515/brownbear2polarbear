{
  "nbformat": 4,
  "nbformat_minor": 0,
  "metadata": {
    "colab": {
      "name": "brownbear2polarbear_cyclegan_only_run_tests.ipynb",
      "version": "0.3.2",
      "provenance": []
    },
    "kernelspec": {
      "name": "python3",
      "display_name": "Python 3"
    },
    "accelerator": "GPU"
  },
  "cells": [
    {
      "metadata": {
        "id": "I9cPytYsCBuM",
        "colab_type": "code",
        "outputId": "7f594e8f-a9aa-4a1f-dc01-28b0ba2d44e6",
        "colab": {
          "base_uri": "https://localhost:8080/",
          "height": 132
        }
      },
      "cell_type": "code",
      "source": [
        "from google.colab import drive\n",
        "drive.mount('/content/gdrive')"
      ],
      "execution_count": 1,
      "outputs": [
        {
          "output_type": "stream",
          "text": [
            "Go to this URL in a browser: https://accounts.google.com/o/oauth2/auth?client_id=947318989803-6bn6qk8qdgf4n4g3pfee6491hc0brc4i.apps.googleusercontent.com&redirect_uri=urn%3Aietf%3Awg%3Aoauth%3A2.0%3Aoob&scope=email%20https%3A%2F%2Fwww.googleapis.com%2Fauth%2Fdocs.test%20https%3A%2F%2Fwww.googleapis.com%2Fauth%2Fdrive%20https%3A%2F%2Fwww.googleapis.com%2Fauth%2Fdrive.photos.readonly%20https%3A%2F%2Fwww.googleapis.com%2Fauth%2Fpeopleapi.readonly&response_type=code\n",
            "\n",
            "Enter your authorization code:\n",
            "··········\n",
            "Mounted at /content/gdrive\n"
          ],
          "name": "stdout"
        }
      ]
    },
    {
      "metadata": {
        "id": "_zwRdQtUKWhF",
        "colab_type": "code",
        "colab": {}
      },
      "cell_type": "code",
      "source": [
        ""
      ],
      "execution_count": 0,
      "outputs": []
    },
    {
      "metadata": {
        "id": "K4utdpLjKqZS",
        "colab_type": "code",
        "outputId": "ea8f4a3d-3d7a-4e7f-c630-38323b137029",
        "colab": {
          "base_uri": "https://localhost:8080/",
          "height": 131
        }
      },
      "cell_type": "code",
      "source": [
        "!git clone https://github.com/junyanz/pytorch-CycleGAN-and-pix2pix"
      ],
      "execution_count": 2,
      "outputs": [
        {
          "output_type": "stream",
          "text": [
            "Cloning into 'pytorch-CycleGAN-and-pix2pix'...\n",
            "remote: Enumerating objects: 1, done.\u001b[K\n",
            "remote: Counting objects: 100% (1/1), done.\u001b[K\n",
            "remote: Total 1993 (delta 0), reused 0 (delta 0), pack-reused 1992\u001b[K\n",
            "Receiving objects: 100% (1993/1993), 7.92 MiB | 13.64 MiB/s, done.\n",
            "Resolving deltas: 100% (1312/1312), done.\n"
          ],
          "name": "stdout"
        }
      ]
    },
    {
      "metadata": {
        "id": "1gr7DtzLMJdJ",
        "colab_type": "code",
        "outputId": "6f59c492-f98f-4b8c-ba1b-8cdecb20ecb8",
        "colab": {
          "base_uri": "https://localhost:8080/",
          "height": 852
        }
      },
      "cell_type": "code",
      "source": [
        "#!pip3 install http://download.pytorch.org/whl/cu80/torch-0.3.0.post4-cp36-cp36m-linux_x86_64.whl \n",
        "!pip3 install -r pytorch-CycleGAN-and-pix2pix/requirements.txt\n"
      ],
      "execution_count": 3,
      "outputs": [
        {
          "output_type": "stream",
          "text": [
            "Requirement already satisfied: torch>=0.4.0 in /usr/local/lib/python3.6/dist-packages (from -r pytorch-CycleGAN-and-pix2pix/requirements.txt (line 1)) (1.0.1.post2)\n",
            "Requirement already satisfied: torchvision>=0.2.1 in /usr/local/lib/python3.6/dist-packages (from -r pytorch-CycleGAN-and-pix2pix/requirements.txt (line 2)) (0.2.1)\n",
            "Collecting dominate>=2.3.1 (from -r pytorch-CycleGAN-and-pix2pix/requirements.txt (line 3))\n",
            "  Downloading https://files.pythonhosted.org/packages/1a/54/50ec03a4b4114e2c02d049cc26fe6ad8f0653ba5d0cd55d7c9bf9a260434/dominate-2.3.5-py2.py3-none-any.whl\n",
            "Collecting visdom>=0.1.8.3 (from -r pytorch-CycleGAN-and-pix2pix/requirements.txt (line 4))\n",
            "\u001b[?25l  Downloading https://files.pythonhosted.org/packages/97/c4/5f5356fd57ae3c269e0e31601ea6487e0622fedc6756a591e4a5fd66cc7a/visdom-0.1.8.8.tar.gz (1.4MB)\n",
            "\u001b[K    100% |████████████████████████████████| 1.4MB 8.8MB/s \n",
            "\u001b[?25hRequirement already satisfied: numpy in /usr/local/lib/python3.6/dist-packages (from torchvision>=0.2.1->-r pytorch-CycleGAN-and-pix2pix/requirements.txt (line 2)) (1.14.6)\n",
            "Collecting pillow>=4.1.1 (from torchvision>=0.2.1->-r pytorch-CycleGAN-and-pix2pix/requirements.txt (line 2))\n",
            "\u001b[?25l  Downloading https://files.pythonhosted.org/packages/85/5e/e91792f198bbc5a0d7d3055ad552bc4062942d27eaf75c3e2783cf64eae5/Pillow-5.4.1-cp36-cp36m-manylinux1_x86_64.whl (2.0MB)\n",
            "\u001b[K    100% |████████████████████████████████| 2.0MB 14.7MB/s \n",
            "\u001b[?25hRequirement already satisfied: six in /usr/local/lib/python3.6/dist-packages (from torchvision>=0.2.1->-r pytorch-CycleGAN-and-pix2pix/requirements.txt (line 2)) (1.11.0)\n",
            "Requirement already satisfied: scipy in /usr/local/lib/python3.6/dist-packages (from visdom>=0.1.8.3->-r pytorch-CycleGAN-and-pix2pix/requirements.txt (line 4)) (1.1.0)\n",
            "Requirement already satisfied: requests in /usr/local/lib/python3.6/dist-packages (from visdom>=0.1.8.3->-r pytorch-CycleGAN-and-pix2pix/requirements.txt (line 4)) (2.18.4)\n",
            "Requirement already satisfied: tornado in /usr/local/lib/python3.6/dist-packages (from visdom>=0.1.8.3->-r pytorch-CycleGAN-and-pix2pix/requirements.txt (line 4)) (4.5.3)\n",
            "Requirement already satisfied: pyzmq in /usr/local/lib/python3.6/dist-packages (from visdom>=0.1.8.3->-r pytorch-CycleGAN-and-pix2pix/requirements.txt (line 4)) (17.0.0)\n",
            "Collecting torchfile (from visdom>=0.1.8.3->-r pytorch-CycleGAN-and-pix2pix/requirements.txt (line 4))\n",
            "  Downloading https://files.pythonhosted.org/packages/91/af/5b305f86f2d218091af657ddb53f984ecbd9518ca9fe8ef4103a007252c9/torchfile-0.1.0.tar.gz\n",
            "Collecting websocket-client (from visdom>=0.1.8.3->-r pytorch-CycleGAN-and-pix2pix/requirements.txt (line 4))\n",
            "\u001b[?25l  Downloading https://files.pythonhosted.org/packages/38/54/684db2ba1b7a203602808446b8686ee786f93b4a7e080cdc440cc7e06e56/websocket_client-0.55.0-py2.py3-none-any.whl (200kB)\n",
            "\u001b[K    100% |████████████████████████████████| 204kB 31.0MB/s \n",
            "\u001b[?25hRequirement already satisfied: urllib3<1.23,>=1.21.1 in /usr/local/lib/python3.6/dist-packages (from requests->visdom>=0.1.8.3->-r pytorch-CycleGAN-and-pix2pix/requirements.txt (line 4)) (1.22)\n",
            "Requirement already satisfied: certifi>=2017.4.17 in /usr/local/lib/python3.6/dist-packages (from requests->visdom>=0.1.8.3->-r pytorch-CycleGAN-and-pix2pix/requirements.txt (line 4)) (2018.11.29)\n",
            "Requirement already satisfied: idna<2.7,>=2.5 in /usr/local/lib/python3.6/dist-packages (from requests->visdom>=0.1.8.3->-r pytorch-CycleGAN-and-pix2pix/requirements.txt (line 4)) (2.6)\n",
            "Requirement already satisfied: chardet<3.1.0,>=3.0.2 in /usr/local/lib/python3.6/dist-packages (from requests->visdom>=0.1.8.3->-r pytorch-CycleGAN-and-pix2pix/requirements.txt (line 4)) (3.0.4)\n",
            "Building wheels for collected packages: visdom, torchfile\n",
            "  Building wheel for visdom (setup.py) ... \u001b[?25ldone\n",
            "\u001b[?25h  Stored in directory: /root/.cache/pip/wheels/ee/87/ce/a5023722374ca73b57fc8d4284ba6f973c01219b3c385a07e0\n",
            "  Building wheel for torchfile (setup.py) ... \u001b[?25ldone\n",
            "\u001b[?25h  Stored in directory: /root/.cache/pip/wheels/b1/c3/d6/9a1cc8f3a99a0fc1124cae20153f36af59a6e683daca0a0814\n",
            "Successfully built visdom torchfile\n",
            "\u001b[31mimgaug 0.2.8 has requirement numpy>=1.15.0, but you'll have numpy 1.14.6 which is incompatible.\u001b[0m\n",
            "\u001b[31mfastai 1.0.46 has requirement numpy>=1.15, but you'll have numpy 1.14.6 which is incompatible.\u001b[0m\n",
            "\u001b[31malbumentations 0.1.12 has requirement imgaug<0.2.7,>=0.2.5, but you'll have imgaug 0.2.8 which is incompatible.\u001b[0m\n",
            "Installing collected packages: dominate, torchfile, websocket-client, pillow, visdom\n",
            "  Found existing installation: Pillow 4.0.0\n",
            "    Uninstalling Pillow-4.0.0:\n",
            "      Successfully uninstalled Pillow-4.0.0\n",
            "Successfully installed dominate-2.3.5 pillow-5.4.1 torchfile-0.1.0 visdom-0.1.8.8 websocket-client-0.55.0\n"
          ],
          "name": "stdout"
        },
        {
          "output_type": "display_data",
          "data": {
            "application/vnd.colab-display-data+json": {
              "pip_warning": {
                "packages": [
                  "PIL"
                ]
              }
            }
          },
          "metadata": {
            "tags": []
          }
        }
      ]
    },
    {
      "metadata": {
        "id": "-oi3dJxIW4fM",
        "colab_type": "code",
        "outputId": "021233f3-2039-4a33-a8f3-bc7fc893a05f",
        "colab": {
          "base_uri": "https://localhost:8080/",
          "height": 74
        }
      },
      "cell_type": "code",
      "source": [
        "!mkdir brownbear2polarbear\n",
        "#!mkdir brownbear2polarbear/trainA\n",
        "#!mkdir brownbear2polarbear/trainB\n",
        "!ls\n",
        "%cd brownbear2polarbear\n",
        "!ls\n",
        "#!ls \"/content/gdrive/My Drive/Colab Notebooks/brownbear2polarbear/\"\n",
        "#!unzip -o -qq \"/content/gdrive/My Drive/Colab Notebooks/brownbear2polarbear/trainA.zip\"\n",
        "#%cd ..\n",
        "#%cd trainB\n",
        "#!unzip -o -qq \"/content/gdrive/My Drive/Colab Notebooks/brownbear2polarbear/trainB.zip\"\n",
        "%cd .."
      ],
      "execution_count": 4,
      "outputs": [
        {
          "output_type": "stream",
          "text": [
            "brownbear2polarbear  gdrive  pytorch-CycleGAN-and-pix2pix  sample_data\n",
            "/content/brownbear2polarbear\n",
            "/content\n"
          ],
          "name": "stdout"
        }
      ]
    },
    {
      "metadata": {
        "id": "fKtJwSoM_Vln",
        "colab_type": "code",
        "colab": {}
      },
      "cell_type": "code",
      "source": [
        "# randomly shuffle the names of the files, as CycleGAN reads the files using os.walk in the default order, we need to shuffle to generalize the training set when using small dataset sizes\n",
        "import os\n",
        "import random\n",
        "#seq = list(range(len(os.listdir(\"/content/brownbear2polarbear/trainA\"))))\n",
        "#random.shuffle(seq)\n",
        "#path = \"/content/brownbear2polarbear/trainA\"\n",
        "#for image in os.listdir(\"/content/brownbear2polarbear/trainA\"):\n",
        "#  os.rename(os.path.join(path, image), os.path.join(path, \"%s.jpg\" % seq.pop(0)))\n",
        "  \n",
        "  \n",
        "#seq = list(range(len(os.listdir(\"/content/brownbear2polarbear/trainB\"))))\n",
        "#random.shuffle(seq)\n",
        "#path = \"/content/brownbear2polarbear/trainB\"\n",
        "#for image in os.listdir(\"/content/brownbear2polarbear/trainB\"):\n",
        "#  os.rename(os.path.join(path, image), os.path.join(path, \"%s.jpg\" % seq.pop(0)))\n",
        "\n"
      ],
      "execution_count": 0,
      "outputs": []
    },
    {
      "metadata": {
        "id": "NyX5GOulKrTL",
        "colab_type": "code",
        "colab": {}
      },
      "cell_type": "code",
      "source": [
        "#!ln -s \"gdrive/My Drive/Colab Notebooks/checkpoints\" checkpoints\n",
        "#data_path = \"gdrive/My Drive/Colab Notebooks/brownbear2polarbear/\"\n",
        "checkpoint_path = \"gdrive/My Drive/Colab Notebooks/brownbear2polarbear_checkpoint/opt.txt\"\n",
        "if os.path.exists(checkpoint_path):\n",
        "  if not os.path.exists(\"/content/checkpoints\"):\n",
        "    !mkdir /content/checkpoints\n",
        "  if not os.path.exists(\"/content/checkpoints/brownbear2polarbear_cyclegan\"):\n",
        "    !mkdir /content/checkpoints/brownbear2polarbear_cyclegan\n",
        "  !cp \"gdrive/My Drive/Colab Notebooks/brownbear2polarbear_checkpoint/.\" /content/checkpoints/brownbear2polarbear_cyclegan/ -r\n",
        "  #!rm -rf /content/checkpoints/brownbear2polarbear_cyclegan/web/ -r\n",
        "  #!time python pytorch-CycleGAN-and-pix2pix/train.py --dataroot /content/brownbear2polarbear --name brownbear2polarbear_cyclegan --model cycle_gan --continue_train --max_dataset_size 20 --save_epoch_freq 50\n",
        "else:\n",
        "  pass\n",
        "  #!time python pytorch-CycleGAN-and-pix2pix/train.py --dataroot /content/brownbear2polarbear --name brownbear2polarbear_cyclegan --model cycle_gan --max_dataset_size 20 --save_epoch_freq 50\n",
        "#!rm -rf \"gdrive/My Drive/Colab Notebooks/brownbear2polarbear_checkpoint/\"\n",
        "\n",
        "#!mkdir \"$output_directory\"\n",
        "#!cp /content/checkpoints/brownbear2polarbear_cyclegan/* \"$output_directory\" -r\n",
        "#!rm -rf \"$directory_to_be_loaded\"\n",
        "#!cp -r \"$output_directory\" \"$directory_to_be_loaded\"\n"
      ],
      "execution_count": 0,
      "outputs": []
    },
    {
      "metadata": {
        "id": "aKwXCHzQ3RCG",
        "colab_type": "code",
        "colab": {}
      },
      "cell_type": "code",
      "source": [
        "import os\n",
        "import datetime\n",
        "os.environ[\"output_directory\"] = \"gdrive/My Drive/Colab Notebooks/brownbear2polarbear_checkpoint_%s/\" % datetime.datetime.now()\n",
        "os.environ[\"directory_to_be_loaded\"] = \"gdrive/My Drive/Colab Notebooks/brownbear2polarbear_checkpoint/\""
      ],
      "execution_count": 0,
      "outputs": []
    },
    {
      "metadata": {
        "id": "14ieELR1_QEp",
        "colab_type": "code",
        "colab": {}
      },
      "cell_type": "code",
      "source": [
        ""
      ],
      "execution_count": 0,
      "outputs": []
    },
    {
      "metadata": {
        "id": "d6aNELt0LI_s",
        "colab_type": "code",
        "outputId": "083b7f70-aaf5-4dc4-8649-3c513c27528e",
        "colab": {
          "base_uri": "https://localhost:8080/",
          "height": 36
        }
      },
      "cell_type": "code",
      "source": [
        "!ls /content/checkpoints/brownbear2polarbear_cyclegan/web/images"
      ],
      "execution_count": 8,
      "outputs": [
        {
          "output_type": "stream",
          "text": [
            "ls: cannot access '/content/checkpoints/brownbear2polarbear_cyclegan/web/images': No such file or directory\n"
          ],
          "name": "stdout"
        }
      ]
    },
    {
      "metadata": {
        "id": "vzM9je5VgqBX",
        "colab_type": "code",
        "colab": {}
      },
      "cell_type": "code",
      "source": [
        "\n"
      ],
      "execution_count": 0,
      "outputs": []
    },
    {
      "metadata": {
        "id": "W3aejs8ONsk5",
        "colab_type": "code",
        "outputId": "8f2ca917-6f26-4ffa-82c5-61f89f059ad5",
        "colab": {
          "base_uri": "https://localhost:8080/",
          "height": 74
        }
      },
      "cell_type": "code",
      "source": [
        "%cd brownbear2polarbear\n",
        "!ls\n",
        "!ls \"/content/gdrive/My Drive/Colab Notebooks/brownbear2polarbear/\"\n",
        "!unzip -o -qq \"/content/gdrive/My Drive/Colab Notebooks/brownbear2polarbear/testA.zip\"\n",
        "#!unzip -o -qq \"/content/gdrive/My Drive/Colab Notebooks/brownbear2polarbear/testB.zip\"\n",
        "%cd .."
      ],
      "execution_count": 9,
      "outputs": [
        {
          "output_type": "stream",
          "text": [
            "/content/brownbear2polarbear\n",
            "testA.zip\n",
            "/content\n"
          ],
          "name": "stdout"
        }
      ]
    },
    {
      "metadata": {
        "id": "7QJKEEkELJvn",
        "colab_type": "code",
        "outputId": "06d26392-8969-49a0-aa20-87153d3ed846",
        "colab": {
          "base_uri": "https://localhost:8080/",
          "height": 1081
        }
      },
      "cell_type": "code",
      "source": [
        "!time python pytorch-CycleGAN-and-pix2pix/test.py --dataroot /content/brownbear2polarbear --name brownbear2polarbear_cyclegan --model cycle_gan --num_test 155"
      ],
      "execution_count": 10,
      "outputs": [
        {
          "output_type": "stream",
          "text": [
            "----------------- Options ---------------\n",
            "             aspect_ratio: 1.0                           \n",
            "               batch_size: 1                             \n",
            "          checkpoints_dir: ./checkpoints                 \n",
            "                crop_size: 256                           \n",
            "                 dataroot: /content/brownbear2polarbear  \t[default: None]\n",
            "             dataset_mode: unaligned                     \n",
            "                direction: AtoB                          \n",
            "          display_winsize: 256                           \n",
            "                    epoch: latest                        \n",
            "                     eval: False                         \n",
            "                  gpu_ids: 0                             \n",
            "                init_gain: 0.02                          \n",
            "                init_type: normal                        \n",
            "                 input_nc: 3                             \n",
            "                  isTrain: False                         \t[default: None]\n",
            "                load_iter: 0                             \t[default: 0]\n",
            "                load_size: 256                           \n",
            "         max_dataset_size: inf                           \n",
            "                    model: cycle_gan                     \t[default: test]\n",
            "               n_layers_D: 3                             \n",
            "                     name: brownbear2polarbear_cyclegan  \t[default: experiment_name]\n",
            "                      ndf: 64                            \n",
            "                     netD: basic                         \n",
            "                     netG: resnet_9blocks                \n",
            "                      ngf: 64                            \n",
            "               no_dropout: True                          \n",
            "                  no_flip: False                         \n",
            "                     norm: instance                      \n",
            "                    ntest: inf                           \n",
            "                 num_test: 155                           \t[default: 50]\n",
            "              num_threads: 4                             \n",
            "                output_nc: 3                             \n",
            "                    phase: test                          \n",
            "               preprocess: resize_and_crop               \n",
            "              results_dir: ./results/                    \n",
            "           serial_batches: False                         \n",
            "                   suffix:                               \n",
            "                  verbose: False                         \n",
            "----------------- End -------------------\n",
            "Traceback (most recent call last):\n",
            "  File \"pytorch-CycleGAN-and-pix2pix/test.py\", line 45, in <module>\n",
            "    dataset = create_dataset(opt)  # create a dataset given opt.dataset_mode and other options\n",
            "  File \"/content/pytorch-CycleGAN-and-pix2pix/data/__init__.py\", line 57, in create_dataset\n",
            "    data_loader = CustomDatasetDataLoader(opt)\n",
            "  File \"/content/pytorch-CycleGAN-and-pix2pix/data/__init__.py\", line 73, in __init__\n",
            "    self.dataset = dataset_class(opt)\n",
            "  File \"/content/pytorch-CycleGAN-and-pix2pix/data/unaligned_dataset.py\", line 30, in __init__\n",
            "    self.B_paths = sorted(make_dataset(self.dir_B, opt.max_dataset_size))    # load images from '/path/to/data/trainB'\n",
            "  File \"/content/pytorch-CycleGAN-and-pix2pix/data/image_folder.py\", line 25, in make_dataset\n",
            "    assert os.path.isdir(dir), '%s is not a valid directory' % dir\n",
            "AssertionError: /content/brownbear2polarbear/testB is not a valid directory\n",
            "\n",
            "real\t0m0.869s\n",
            "user\t0m0.654s\n",
            "sys\t0m0.331s\n"
          ],
          "name": "stdout"
        }
      ]
    },
    {
      "metadata": {
        "id": "6utfjedbN9pX",
        "colab_type": "code",
        "colab": {
          "base_uri": "https://localhost:8080/",
          "height": 36
        },
        "outputId": "e1438cb0-32b2-4894-e4c2-299df61afaf9"
      },
      "cell_type": "code",
      "source": [
        "!rm -rf \"gdrive/My Drive/Colab Notebooks/brownbear2polarbear_results/\"\n",
        "!mkdir \"gdrive/My Drive/Colab Notebooks/brownbear2polarbear_results/\"\n",
        "!cp -r /content/results/brownbear2polarbear_cyclegan/. \"gdrive/My Drive/Colab Notebooks/brownbear2polarbear_results/\""
      ],
      "execution_count": 11,
      "outputs": [
        {
          "output_type": "stream",
          "text": [
            "cp: cannot stat '/content/results/brownbear2polarbear_cyclegan/.': No such file or directory\n"
          ],
          "name": "stdout"
        }
      ]
    },
    {
      "metadata": {
        "id": "SS7AAc3kVbw4",
        "colab_type": "code",
        "colab": {}
      },
      "cell_type": "code",
      "source": [
        ""
      ],
      "execution_count": 0,
      "outputs": []
    }
  ]
}