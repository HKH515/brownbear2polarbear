{
  "nbformat": 4,
  "nbformat_minor": 0,
  "metadata": {
    "colab": {
      "name": "brownbear2polarbear_cyclegan.ipynb",
      "version": "0.3.2",
      "provenance": [],
      "collapsed_sections": []
    },
    "kernelspec": {
      "name": "python3",
      "display_name": "Python 3"
    },
    "accelerator": "GPU"
  },
  "cells": [
    {
      "metadata": {
        "id": "I9cPytYsCBuM",
        "colab_type": "code",
        "outputId": "3b868198-01d9-4665-9fe2-d4f2c1e4c563",
        "colab": {
          "base_uri": "https://localhost:8080/",
          "height": 36
        }
      },
      "cell_type": "code",
      "source": [
        "from google.colab import drive\n",
        "drive.mount('/content/gdrive')"
      ],
      "execution_count": 0,
      "outputs": [
        {
          "output_type": "stream",
          "text": [
            "Mounted at /content/gdrive\n"
          ],
          "name": "stdout"
        }
      ]
    },
    {
      "metadata": {
        "id": "_zwRdQtUKWhF",
        "colab_type": "code",
        "colab": {}
      },
      "cell_type": "code",
      "source": [
        ""
      ],
      "execution_count": 0,
      "outputs": []
    },
    {
      "metadata": {
        "id": "K4utdpLjKqZS",
        "colab_type": "code",
        "outputId": "716da591-93b5-4b02-9e0a-e0db8da668cd",
        "colab": {
          "base_uri": "https://localhost:8080/",
          "height": 150
        }
      },
      "cell_type": "code",
      "source": [
        "!git clone https://github.com/junyanz/pytorch-CycleGAN-and-pix2pix"
      ],
      "execution_count": 0,
      "outputs": [
        {
          "output_type": "stream",
          "text": [
            "Cloning into 'pytorch-CycleGAN-and-pix2pix'...\n",
            "remote: Enumerating objects: 2, done.\u001b[K\n",
            "remote: Counting objects:  50% (1/2)   \u001b[K\rremote: Counting objects: 100% (2/2)   \u001b[K\rremote: Counting objects: 100% (2/2), done.\u001b[K\n",
            "remote: Compressing objects:  50% (1/2)   \u001b[K\rremote: Compressing objects: 100% (2/2)   \u001b[K\rremote: Compressing objects: 100% (2/2), done.\u001b[K\n",
            "Receiving objects:   0% (1/1989)   \rReceiving objects:   1% (20/1989)   \rReceiving objects:   2% (40/1989)   \rReceiving objects:   3% (60/1989)   \rReceiving objects:   4% (80/1989)   \rReceiving objects:   5% (100/1989)   \rReceiving objects:   6% (120/1989)   \rReceiving objects:   7% (140/1989)   \rReceiving objects:   8% (160/1989)   \rReceiving objects:   9% (180/1989)   \rReceiving objects:  10% (199/1989)   \rReceiving objects:  11% (219/1989)   \rReceiving objects:  12% (239/1989)   \rReceiving objects:  13% (259/1989)   \rReceiving objects:  14% (279/1989)   \rReceiving objects:  15% (299/1989)   \rReceiving objects:  16% (319/1989)   \rReceiving objects:  17% (339/1989)   \rReceiving objects:  18% (359/1989)   \rReceiving objects:  19% (378/1989)   \rReceiving objects:  20% (398/1989)   \rReceiving objects:  21% (418/1989)   \rReceiving objects:  22% (438/1989)   \rReceiving objects:  23% (458/1989)   \rReceiving objects:  24% (478/1989)   \rReceiving objects:  25% (498/1989)   \rReceiving objects:  26% (518/1989)   \rReceiving objects:  27% (538/1989)   \rReceiving objects:  28% (557/1989)   \rReceiving objects:  29% (577/1989)   \rReceiving objects:  30% (597/1989)   \rReceiving objects:  31% (617/1989)   \rReceiving objects:  32% (637/1989)   \rReceiving objects:  33% (657/1989)   \rReceiving objects:  34% (677/1989)   \rReceiving objects:  35% (697/1989)   \rReceiving objects:  36% (717/1989)   \rReceiving objects:  37% (736/1989)   \rReceiving objects:  38% (756/1989)   \rReceiving objects:  39% (776/1989)   \rReceiving objects:  40% (796/1989)   \rReceiving objects:  41% (816/1989)   \rReceiving objects:  42% (836/1989)   \rReceiving objects:  43% (856/1989)   \rReceiving objects:  44% (876/1989)   \rReceiving objects:  45% (896/1989)   \rReceiving objects:  46% (915/1989)   \rReceiving objects:  47% (935/1989)   \rReceiving objects:  48% (955/1989)   \rReceiving objects:  49% (975/1989)   \rReceiving objects:  50% (995/1989)   \rReceiving objects:  51% (1015/1989)   \rReceiving objects:  52% (1035/1989)   \rReceiving objects:  53% (1055/1989)   \rReceiving objects:  54% (1075/1989)   \rReceiving objects:  55% (1094/1989)   \rReceiving objects:  56% (1114/1989)   \rReceiving objects:  57% (1134/1989)   \rReceiving objects:  58% (1154/1989)   \rReceiving objects:  59% (1174/1989)   \rReceiving objects:  60% (1194/1989)   \rReceiving objects:  61% (1214/1989)   \rReceiving objects:  62% (1234/1989)   \rReceiving objects:  63% (1254/1989)   \rReceiving objects:  64% (1273/1989)   \rReceiving objects:  65% (1293/1989)   \rReceiving objects:  66% (1313/1989)   \rReceiving objects:  67% (1333/1989)   \rReceiving objects:  68% (1353/1989)   \rReceiving objects:  69% (1373/1989)   \rReceiving objects:  70% (1393/1989)   \rReceiving objects:  71% (1413/1989)   \rReceiving objects:  72% (1433/1989)   \rReceiving objects:  73% (1452/1989)   \rReceiving objects:  74% (1472/1989)   \rReceiving objects:  75% (1492/1989)   \rReceiving objects:  76% (1512/1989)   \rReceiving objects:  77% (1532/1989)   \rReceiving objects:  78% (1552/1989)   \rReceiving objects:  79% (1572/1989)   \rReceiving objects:  80% (1592/1989)   \rReceiving objects:  81% (1612/1989)   \rReceiving objects:  82% (1631/1989)   \rReceiving objects:  83% (1651/1989)   \rReceiving objects:  84% (1671/1989)   \rReceiving objects:  85% (1691/1989)   \rReceiving objects:  86% (1711/1989)   \rReceiving objects:  87% (1731/1989)   \rReceiving objects:  88% (1751/1989)   \rReceiving objects:  89% (1771/1989)   \rReceiving objects:  90% (1791/1989)   \rReceiving objects:  91% (1810/1989)   \rReceiving objects:  92% (1830/1989)   \rReceiving objects:  93% (1850/1989)   \rremote: Total 1989 (delta 0), reused 0 (delta 0), pack-reused 1987\u001b[K\n",
            "Receiving objects:  94% (1870/1989)   \rReceiving objects:  95% (1890/1989)   \rReceiving objects:  96% (1910/1989)   \rReceiving objects:  97% (1930/1989)   \rReceiving objects:  98% (1950/1989)   \rReceiving objects:  99% (1970/1989)   \rReceiving objects: 100% (1989/1989)   \rReceiving objects: 100% (1989/1989), 7.92 MiB | 29.82 MiB/s, done.\n",
            "Resolving deltas:   0% (0/1309)   \rResolving deltas:   1% (18/1309)   \rResolving deltas:   2% (32/1309)   \rResolving deltas:   3% (42/1309)   \rResolving deltas:   4% (53/1309)   \rResolving deltas:   5% (67/1309)   \rResolving deltas:   6% (84/1309)   \rResolving deltas:   7% (104/1309)   \rResolving deltas:   8% (116/1309)   \rResolving deltas:   9% (118/1309)   \rResolving deltas:  10% (131/1309)   \rResolving deltas:  11% (148/1309)   \rResolving deltas:  12% (158/1309)   \rResolving deltas:  13% (182/1309)   \rResolving deltas:  14% (184/1309)   \rResolving deltas:  21% (284/1309)   \rResolving deltas:  22% (289/1309)   \rResolving deltas:  23% (312/1309)   \rResolving deltas:  24% (316/1309)   \rResolving deltas:  26% (349/1309)   \rResolving deltas:  27% (357/1309)   \rResolving deltas:  28% (376/1309)   \rResolving deltas:  31% (412/1309)   \rResolving deltas:  32% (421/1309)   \rResolving deltas:  35% (471/1309)   \rResolving deltas:  36% (474/1309)   \rResolving deltas:  37% (486/1309)   \rResolving deltas:  38% (504/1309)   \rResolving deltas:  39% (512/1309)   \rResolving deltas:  40% (530/1309)   \rResolving deltas:  42% (553/1309)   \rResolving deltas:  43% (563/1309)   \rResolving deltas:  44% (582/1309)   \rResolving deltas:  45% (595/1309)   \rResolving deltas:  46% (604/1309)   \rResolving deltas:  49% (644/1309)   \rResolving deltas:  50% (658/1309)   \rResolving deltas:  52% (684/1309)   \rResolving deltas:  53% (695/1309)   \rResolving deltas:  54% (711/1309)   \rResolving deltas:  55% (726/1309)   \rResolving deltas:  56% (741/1309)   \rResolving deltas:  57% (754/1309)   \rResolving deltas:  58% (772/1309)   \rResolving deltas:  61% (809/1309)   \rResolving deltas:  62% (812/1309)   \rResolving deltas:  63% (825/1309)   \rResolving deltas:  64% (838/1309)   \rResolving deltas:  65% (851/1309)   \rResolving deltas:  66% (867/1309)   \rResolving deltas:  67% (882/1309)   \rResolving deltas:  69% (904/1309)   \rResolving deltas:  70% (921/1309)   \rResolving deltas:  71% (931/1309)   \rResolving deltas:  72% (948/1309)   \rResolving deltas:  73% (957/1309)   \rResolving deltas:  74% (969/1309)   \rResolving deltas:  75% (984/1309)   \rResolving deltas:  76% (1005/1309)   \rResolving deltas:  77% (1008/1309)   \rResolving deltas:  78% (1022/1309)   \rResolving deltas:  79% (1042/1309)   \rResolving deltas:  80% (1050/1309)   \rResolving deltas:  81% (1065/1309)   \rResolving deltas:  82% (1076/1309)   \rResolving deltas:  83% (1087/1309)   \rResolving deltas:  84% (1100/1309)   \rResolving deltas:  85% (1114/1309)   \rResolving deltas:  86% (1129/1309)   \rResolving deltas:  88% (1154/1309)   \rResolving deltas:  89% (1172/1309)   \rResolving deltas:  90% (1179/1309)   \rResolving deltas:  91% (1201/1309)   \rResolving deltas:  92% (1206/1309)   \rResolving deltas:  93% (1222/1309)   \rResolving deltas:  94% (1236/1309)   \rResolving deltas:  95% (1248/1309)   \rResolving deltas:  98% (1292/1309)   \rResolving deltas:  99% (1300/1309)   \rResolving deltas: 100% (1309/1309)   \rResolving deltas: 100% (1309/1309), done.\n"
          ],
          "name": "stdout"
        }
      ]
    },
    {
      "metadata": {
        "id": "1gr7DtzLMJdJ",
        "colab_type": "code",
        "outputId": "e7d3c7d3-405c-472d-b186-3c34b9c397b7",
        "colab": {
          "base_uri": "https://localhost:8080/",
          "height": 833
        }
      },
      "cell_type": "code",
      "source": [
        "#!pip3 install http://download.pytorch.org/whl/cu80/torch-0.3.0.post4-cp36-cp36m-linux_x86_64.whl \n",
        "!pip3 install -r pytorch-CycleGAN-and-pix2pix/requirements.txt\n"
      ],
      "execution_count": 0,
      "outputs": [
        {
          "output_type": "stream",
          "text": [
            "Requirement already satisfied: torch>=0.4.0 in /usr/local/lib/python3.6/dist-packages (from -r pytorch-CycleGAN-and-pix2pix/requirements.txt (line 1)) (1.0.1.post2)\n",
            "Requirement already satisfied: torchvision>=0.2.1 in /usr/local/lib/python3.6/dist-packages (from -r pytorch-CycleGAN-and-pix2pix/requirements.txt (line 2)) (0.2.1)\n",
            "Collecting dominate>=2.3.1 (from -r pytorch-CycleGAN-and-pix2pix/requirements.txt (line 3))\n",
            "  Downloading https://files.pythonhosted.org/packages/1a/54/50ec03a4b4114e2c02d049cc26fe6ad8f0653ba5d0cd55d7c9bf9a260434/dominate-2.3.5-py2.py3-none-any.whl\n",
            "Collecting visdom>=0.1.8.3 (from -r pytorch-CycleGAN-and-pix2pix/requirements.txt (line 4))\n",
            "\u001b[?25l  Downloading https://files.pythonhosted.org/packages/97/c4/5f5356fd57ae3c269e0e31601ea6487e0622fedc6756a591e4a5fd66cc7a/visdom-0.1.8.8.tar.gz (1.4MB)\n",
            "\r\u001b[K    0% |▎                               | 10kB 12.4MB/s eta 0:00:01\r\u001b[K    1% |▌                               | 20kB 18.3MB/s eta 0:00:01\r\u001b[K    2% |▊                               | 30kB 22.9MB/s eta 0:00:01\r\u001b[K    3% |█                               | 40kB 5.2MB/s eta 0:00:01\r\u001b[K    3% |█▏                              | 51kB 6.3MB/s eta 0:00:01\r\u001b[K    4% |█▍                              | 61kB 7.4MB/s eta 0:00:01\r\u001b[K    5% |█▊                              | 71kB 8.4MB/s eta 0:00:01\r\u001b[K    6% |██                              | 81kB 9.4MB/s eta 0:00:01\r\u001b[K    6% |██▏                             | 92kB 10.3MB/s eta 0:00:01\r\u001b[K    7% |██▍                             | 102kB 11.3MB/s eta 0:00:01\r\u001b[K    8% |██▋                             | 112kB 7.2MB/s eta 0:00:01\r\u001b[K    9% |██▉                             | 122kB 7.3MB/s eta 0:00:01\r\u001b[K    9% |███▏                            | 133kB 7.2MB/s eta 0:00:01\r\u001b[K    10% |███▍                            | 143kB 12.9MB/s eta 0:00:01\r\u001b[K    11% |███▋                            | 153kB 13.0MB/s eta 0:00:01\r\u001b[K    12% |███▉                            | 163kB 13.0MB/s eta 0:00:01\r\u001b[K    12% |████                            | 174kB 12.9MB/s eta 0:00:01\r\u001b[K    13% |████▎                           | 184kB 13.0MB/s eta 0:00:01\r\u001b[K    14% |████▋                           | 194kB 13.0MB/s eta 0:00:01\r\u001b[K    15% |████▉                           | 204kB 12.7MB/s eta 0:00:01\r\u001b[K    15% |█████                           | 215kB 42.9MB/s eta 0:00:01\r\u001b[K    16% |█████▎                          | 225kB 43.5MB/s eta 0:00:01\r\u001b[K    17% |█████▌                          | 235kB 46.8MB/s eta 0:00:01\r\u001b[K    18% |█████▊                          | 245kB 46.4MB/s eta 0:00:01\r\u001b[K    18% |██████                          | 256kB 44.8MB/s eta 0:00:01\r\u001b[K    19% |██████▎                         | 266kB 41.3MB/s eta 0:00:01\r\u001b[K    20% |██████▌                         | 276kB 18.2MB/s eta 0:00:01\r\u001b[K    21% |██████▊                         | 286kB 18.1MB/s eta 0:00:01\r\u001b[K    21% |███████                         | 296kB 17.8MB/s eta 0:00:01\r\u001b[K    22% |███████▏                        | 307kB 18.5MB/s eta 0:00:01\r\u001b[K    23% |███████▍                        | 317kB 18.6MB/s eta 0:00:01\r\u001b[K    24% |███████▊                        | 327kB 18.5MB/s eta 0:00:01\r\u001b[K    24% |████████                        | 337kB 18.6MB/s eta 0:00:01\r\u001b[K    25% |████████▏                       | 348kB 18.0MB/s eta 0:00:01\r\u001b[K    26% |████████▍                       | 358kB 18.0MB/s eta 0:00:01\r\u001b[K    27% |████████▋                       | 368kB 18.6MB/s eta 0:00:01\r\u001b[K    27% |████████▉                       | 378kB 44.7MB/s eta 0:00:01\r\u001b[K    28% |█████████▏                      | 389kB 46.2MB/s eta 0:00:01\r\u001b[K    29% |█████████▍                      | 399kB 48.1MB/s eta 0:00:01\r\u001b[K    30% |█████████▋                      | 409kB 47.2MB/s eta 0:00:01\r\u001b[K    30% |█████████▉                      | 419kB 46.7MB/s eta 0:00:01\r\u001b[K    31% |██████████                      | 430kB 46.6MB/s eta 0:00:01\r\u001b[K    32% |██████████▎                     | 440kB 24.2MB/s eta 0:00:01\r\u001b[K    33% |██████████▋                     | 450kB 24.7MB/s eta 0:00:01\r\u001b[K    33% |██████████▉                     | 460kB 25.2MB/s eta 0:00:01\r\u001b[K    34% |███████████                     | 471kB 25.5MB/s eta 0:00:01\r\u001b[K    35% |███████████▎                    | 481kB 25.6MB/s eta 0:00:01\r\u001b[K    36% |███████████▌                    | 491kB 25.2MB/s eta 0:00:01\r\u001b[K    36% |███████████▊                    | 501kB 25.0MB/s eta 0:00:01\r\u001b[K    37% |████████████                    | 512kB 23.8MB/s eta 0:00:01\r\u001b[K    38% |████████████▎                   | 522kB 23.5MB/s eta 0:00:01\r\u001b[K    39% |████████████▌                   | 532kB 23.7MB/s eta 0:00:01\r\u001b[K    39% |████████████▊                   | 542kB 42.0MB/s eta 0:00:01\r\u001b[K    40% |█████████████                   | 552kB 44.2MB/s eta 0:00:01\r\u001b[K    41% |█████████████▏                  | 563kB 44.1MB/s eta 0:00:01\r\u001b[K    42% |█████████████▌                  | 573kB 43.8MB/s eta 0:00:01\r\u001b[K    42% |█████████████▊                  | 583kB 44.2MB/s eta 0:00:01\r\u001b[K    43% |██████████████                  | 593kB 44.2MB/s eta 0:00:01\r\u001b[K    44% |██████████████▏                 | 604kB 44.2MB/s eta 0:00:01\r\u001b[K    45% |██████████████▍                 | 614kB 48.8MB/s eta 0:00:01\r\u001b[K    45% |██████████████▋                 | 624kB 51.1MB/s eta 0:00:01\r\u001b[K    46% |██████████████▉                 | 634kB 51.7MB/s eta 0:00:01\r\u001b[K    47% |███████████████▏                | 645kB 55.1MB/s eta 0:00:01\r\u001b[K    48% |███████████████▍                | 655kB 55.0MB/s eta 0:00:01\r\u001b[K    48% |███████████████▋                | 665kB 46.0MB/s eta 0:00:01\r\u001b[K    49% |███████████████▉                | 675kB 46.1MB/s eta 0:00:01\r\u001b[K    50% |████████████████                | 686kB 45.6MB/s eta 0:00:01\r\u001b[K    51% |████████████████▎               | 696kB 45.2MB/s eta 0:00:01\r\u001b[K    51% |████████████████▋               | 706kB 44.6MB/s eta 0:00:01\r\u001b[K    52% |████████████████▉               | 716kB 44.7MB/s eta 0:00:01\r\u001b[K    53% |█████████████████               | 727kB 44.5MB/s eta 0:00:01\r\u001b[K    54% |█████████████████▎              | 737kB 44.1MB/s eta 0:00:01\r\u001b[K    54% |█████████████████▌              | 747kB 44.5MB/s eta 0:00:01\r\u001b[K    55% |█████████████████▊              | 757kB 44.4MB/s eta 0:00:01\r\u001b[K    56% |██████████████████              | 768kB 52.1MB/s eta 0:00:01\r\u001b[K    57% |██████████████████▎             | 778kB 51.0MB/s eta 0:00:01\r\u001b[K    57% |██████████████████▌             | 788kB 48.8MB/s eta 0:00:01\r\u001b[K    58% |██████████████████▊             | 798kB 50.2MB/s eta 0:00:01\r\u001b[K    59% |███████████████████             | 808kB 51.8MB/s eta 0:00:01\r\u001b[K    60% |███████████████████▏            | 819kB 52.0MB/s eta 0:00:01\r\u001b[K    60% |███████████████████▌            | 829kB 51.8MB/s eta 0:00:01\r\u001b[K    61% |███████████████████▊            | 839kB 51.4MB/s eta 0:00:01\r\u001b[K    62% |████████████████████            | 849kB 49.1MB/s eta 0:00:01\r\u001b[K    63% |████████████████████▏           | 860kB 44.9MB/s eta 0:00:01\r\u001b[K    63% |████████████████████▍           | 870kB 42.5MB/s eta 0:00:01\r\u001b[K    64% |████████████████████▋           | 880kB 40.9MB/s eta 0:00:01\r\u001b[K    65% |█████████████████████           | 890kB 42.0MB/s eta 0:00:01\r\u001b[K    66% |█████████████████████▏          | 901kB 42.3MB/s eta 0:00:01\r\u001b[K    66% |█████████████████████▍          | 911kB 42.6MB/s eta 0:00:01\r\u001b[K    67% |█████████████████████▋          | 921kB 42.5MB/s eta 0:00:01\r\u001b[K    68% |█████████████████████▉          | 931kB 42.4MB/s eta 0:00:01\r\u001b[K    69% |██████████████████████          | 942kB 43.0MB/s eta 0:00:01\r\u001b[K    69% |██████████████████████▎         | 952kB 44.2MB/s eta 0:00:01\r\u001b[K    70% |██████████████████████▋         | 962kB 48.8MB/s eta 0:00:01\r\u001b[K    71% |██████████████████████▉         | 972kB 48.9MB/s eta 0:00:01\r\u001b[K    72% |███████████████████████         | 983kB 51.7MB/s eta 0:00:01\r\u001b[K    72% |███████████████████████▎        | 993kB 53.0MB/s eta 0:00:01\r\u001b[K    73% |███████████████████████▌        | 1.0MB 51.0MB/s eta 0:00:01\r\u001b[K    74% |███████████████████████▊        | 1.0MB 49.6MB/s eta 0:00:01\r\u001b[K    75% |████████████████████████        | 1.0MB 49.7MB/s eta 0:00:01\r\u001b[K    75% |████████████████████████▎       | 1.0MB 49.6MB/s eta 0:00:01\r\u001b[K    76% |████████████████████████▌       | 1.0MB 50.6MB/s eta 0:00:01\r\u001b[K    77% |████████████████████████▊       | 1.1MB 51.1MB/s eta 0:00:01\r\u001b[K    78% |█████████████████████████       | 1.1MB 50.5MB/s eta 0:00:01\r\u001b[K    78% |█████████████████████████▏      | 1.1MB 54.8MB/s eta 0:00:01\r\u001b[K    79% |█████████████████████████▌      | 1.1MB 52.9MB/s eta 0:00:01\r\u001b[K    80% |█████████████████████████▊      | 1.1MB 45.0MB/s eta 0:00:01\r\u001b[K    81% |██████████████████████████      | 1.1MB 46.3MB/s eta 0:00:01\r\u001b[K    81% |██████████████████████████▏     | 1.1MB 47.2MB/s eta 0:00:01\r\u001b[K    82% |██████████████████████████▍     | 1.1MB 46.4MB/s eta 0:00:01\r\u001b[K    83% |██████████████████████████▋     | 1.1MB 46.8MB/s eta 0:00:01\r\u001b[K    84% |███████████████████████████     | 1.1MB 46.2MB/s eta 0:00:01\r\u001b[K    84% |███████████████████████████▏    | 1.2MB 45.5MB/s eta 0:00:01\r\u001b[K    85% |███████████████████████████▍    | 1.2MB 45.7MB/s eta 0:00:01\r\u001b[K    86% |███████████████████████████▋    | 1.2MB 44.5MB/s eta 0:00:01\r\u001b[K    87% |███████████████████████████▉    | 1.2MB 45.9MB/s eta 0:00:01\r\u001b[K    87% |████████████████████████████    | 1.2MB 54.0MB/s eta 0:00:01\r\u001b[K    88% |████████████████████████████▍   | 1.2MB 54.4MB/s eta 0:00:01\r\u001b[K    89% |████████████████████████████▋   | 1.2MB 54.2MB/s eta 0:00:01\r\u001b[K    90% |████████████████████████████▉   | 1.2MB 54.5MB/s eta 0:00:01\r\u001b[K    90% |█████████████████████████████   | 1.2MB 53.6MB/s eta 0:00:01\r\u001b[K    91% |█████████████████████████████▎  | 1.2MB 50.5MB/s eta 0:00:01\r\u001b[K    92% |█████████████████████████████▌  | 1.3MB 50.5MB/s eta 0:00:01\r\u001b[K    93% |█████████████████████████████▊  | 1.3MB 51.2MB/s eta 0:00:01\r\u001b[K    93% |██████████████████████████████  | 1.3MB 52.1MB/s eta 0:00:01\r\u001b[K    94% |██████████████████████████████▎ | 1.3MB 52.4MB/s eta 0:00:01\r\u001b[K    95% |██████████████████████████████▌ | 1.3MB 52.1MB/s eta 0:00:01\r\u001b[K    96% |██████████████████████████████▊ | 1.3MB 50.8MB/s eta 0:00:01\r\u001b[K    96% |███████████████████████████████ | 1.3MB 51.3MB/s eta 0:00:01\r\u001b[K    97% |███████████████████████████████▏| 1.3MB 52.0MB/s eta 0:00:01\r\u001b[K    98% |███████████████████████████████▌| 1.3MB 52.8MB/s eta 0:00:01\r\u001b[K    99% |███████████████████████████████▊| 1.4MB 55.7MB/s eta 0:00:01\r\u001b[K    99% |████████████████████████████████| 1.4MB 56.8MB/s eta 0:00:01\r\u001b[K    100% |████████████████████████████████| 1.4MB 17.0MB/s \n",
            "\u001b[?25hRequirement already satisfied: numpy in /usr/local/lib/python3.6/dist-packages (from torchvision>=0.2.1->-r pytorch-CycleGAN-and-pix2pix/requirements.txt (line 2)) (1.14.6)\n",
            "Requirement already satisfied: six in /usr/local/lib/python3.6/dist-packages (from torchvision>=0.2.1->-r pytorch-CycleGAN-and-pix2pix/requirements.txt (line 2)) (1.11.0)\n",
            "Collecting pillow>=4.1.1 (from torchvision>=0.2.1->-r pytorch-CycleGAN-and-pix2pix/requirements.txt (line 2))\n",
            "\u001b[?25l  Downloading https://files.pythonhosted.org/packages/85/5e/e91792f198bbc5a0d7d3055ad552bc4062942d27eaf75c3e2783cf64eae5/Pillow-5.4.1-cp36-cp36m-manylinux1_x86_64.whl (2.0MB)\n",
            "\r\u001b[K    0% |▏                               | 10kB 16.7MB/s eta 0:00:01\r\u001b[K    1% |▎                               | 20kB 23.7MB/s eta 0:00:01\r\u001b[K    1% |▌                               | 30kB 29.3MB/s eta 0:00:01\r\u001b[K    2% |▋                               | 40kB 33.9MB/s eta 0:00:01\r\u001b[K    2% |▉                               | 51kB 36.0MB/s eta 0:00:01\r\u001b[K    3% |█                               | 61kB 38.7MB/s eta 0:00:01\r\u001b[K    3% |█▏                              | 71kB 40.8MB/s eta 0:00:01\r\u001b[K    4% |█▎                              | 81kB 42.4MB/s eta 0:00:01\r\u001b[K    4% |█▌                              | 92kB 44.4MB/s eta 0:00:01\r\u001b[K    5% |█▋                              | 102kB 46.2MB/s eta 0:00:01\r\u001b[K    5% |█▉                              | 112kB 57.4MB/s eta 0:00:01\r\u001b[K    6% |██                              | 122kB 60.2MB/s eta 0:00:01\r\u001b[K    6% |██▏                             | 133kB 59.7MB/s eta 0:00:01\r\u001b[K    7% |██▎                             | 143kB 60.8MB/s eta 0:00:01\r\u001b[K    7% |██▌                             | 153kB 63.3MB/s eta 0:00:01\r\u001b[K    8% |██▋                             | 163kB 63.9MB/s eta 0:00:01\r\u001b[K    8% |██▉                             | 174kB 62.9MB/s eta 0:00:01\r\u001b[K    9% |███                             | 184kB 63.0MB/s eta 0:00:01\r\u001b[K    9% |███▏                            | 194kB 63.6MB/s eta 0:00:01\r\u001b[K    10% |███▎                            | 204kB 58.4MB/s eta 0:00:01\r\u001b[K    10% |███▌                            | 215kB 58.9MB/s eta 0:00:01\r\u001b[K    11% |███▋                            | 225kB 60.4MB/s eta 0:00:01\r\u001b[K    11% |███▉                            | 235kB 61.9MB/s eta 0:00:01\r\u001b[K    12% |████                            | 245kB 60.2MB/s eta 0:00:01\r\u001b[K    12% |████▏                           | 256kB 60.3MB/s eta 0:00:01\r\u001b[K    13% |████▎                           | 266kB 54.4MB/s eta 0:00:01\r\u001b[K    13% |████▌                           | 276kB 53.8MB/s eta 0:00:01\r\u001b[K    14% |████▋                           | 286kB 51.5MB/s eta 0:00:01\r\u001b[K    14% |████▉                           | 296kB 50.3MB/s eta 0:00:01\r\u001b[K    15% |█████                           | 307kB 53.4MB/s eta 0:00:01\r\u001b[K    16% |█████▏                          | 317kB 53.7MB/s eta 0:00:01\r\u001b[K    16% |█████▎                          | 327kB 53.0MB/s eta 0:00:01\r\u001b[K    17% |█████▌                          | 337kB 53.1MB/s eta 0:00:01\r\u001b[K    17% |█████▋                          | 348kB 180kB/s eta 0:00:10\r\u001b[K    18% |█████▉                          | 358kB 180kB/s eta 0:00:09\r\u001b[K    18% |██████                          | 368kB 180kB/s eta 0:00:09\r\u001b[K    19% |██████▏                         | 378kB 180kB/s eta 0:00:09\r\u001b[K    19% |██████▎                         | 389kB 180kB/s eta 0:00:09\r\u001b[K    20% |██████▌                         | 399kB 180kB/s eta 0:00:09\r\u001b[K    20% |██████▋                         | 409kB 180kB/s eta 0:00:09\r\u001b[K    21% |██████▉                         | 419kB 180kB/s eta 0:00:09\r\u001b[K    21% |███████                         | 430kB 180kB/s eta 0:00:09\r\u001b[K    22% |███████                         | 440kB 180kB/s eta 0:00:09\r\u001b[K    22% |███████▎                        | 450kB 54.0MB/s eta 0:00:01\r\u001b[K    23% |███████▍                        | 460kB 56.0MB/s eta 0:00:01\r\u001b[K    23% |███████▋                        | 471kB 58.1MB/s eta 0:00:01\r\u001b[K    24% |███████▊                        | 481kB 58.8MB/s eta 0:00:01\r\u001b[K    24% |████████                        | 491kB 60.1MB/s eta 0:00:01\r\u001b[K    25% |████████                        | 501kB 60.7MB/s eta 0:00:01\r\u001b[K    25% |████████▎                       | 512kB 54.9MB/s eta 0:00:01\r\u001b[K    26% |████████▍                       | 522kB 54.4MB/s eta 0:00:01\r\u001b[K    26% |████████▋                       | 532kB 54.9MB/s eta 0:00:01\r\u001b[K    27% |████████▊                       | 542kB 54.9MB/s eta 0:00:01\r\u001b[K    27% |█████████                       | 552kB 61.7MB/s eta 0:00:01\r\u001b[K    28% |█████████                       | 563kB 60.4MB/s eta 0:00:01\r\u001b[K    28% |█████████▎                      | 573kB 58.1MB/s eta 0:00:01\r\u001b[K    29% |█████████▍                      | 583kB 58.5MB/s eta 0:00:01\r\u001b[K    29% |█████████▋                      | 593kB 58.3MB/s eta 0:00:01\r\u001b[K    30% |█████████▊                      | 604kB 58.5MB/s eta 0:00:01\r\u001b[K    30% |██████████                      | 614kB 65.1MB/s eta 0:00:01\r\u001b[K    31% |██████████                      | 624kB 64.6MB/s eta 0:00:01\r\u001b[K    32% |██████████▎                     | 634kB 63.9MB/s eta 0:00:01\r\u001b[K    32% |██████████▍                     | 645kB 64.0MB/s eta 0:00:01\r\u001b[K    33% |██████████▋                     | 655kB 62.9MB/s eta 0:00:01\r\u001b[K    33% |██████████▊                     | 665kB 49.2MB/s eta 0:00:01\r\u001b[K    34% |███████████                     | 675kB 50.1MB/s eta 0:00:01\r\u001b[K    34% |███████████                     | 686kB 50.3MB/s eta 0:00:01\r\u001b[K    35% |███████████▎                    | 696kB 50.1MB/s eta 0:00:01\r\u001b[K    35% |███████████▍                    | 706kB 49.2MB/s eta 0:00:01\r\u001b[K    36% |███████████▋                    | 716kB 49.4MB/s eta 0:00:01\r\u001b[K    36% |███████████▊                    | 727kB 47.7MB/s eta 0:00:01\r\u001b[K    37% |████████████                    | 737kB 47.6MB/s eta 0:00:01\r\u001b[K    37% |████████████                    | 747kB 47.4MB/s eta 0:00:01\r\u001b[K    38% |████████████▎                   | 757kB 47.2MB/s eta 0:00:01\r\u001b[K    38% |████████████▍                   | 768kB 62.1MB/s eta 0:00:01\r\u001b[K    39% |████████████▋                   | 778kB 62.3MB/s eta 0:00:01\r\u001b[K    39% |████████████▊                   | 788kB 59.9MB/s eta 0:00:01\r\u001b[K    40% |█████████████                   | 798kB 59.7MB/s eta 0:00:01\r\u001b[K    40% |█████████████                   | 808kB 60.8MB/s eta 0:00:01\r\u001b[K    41% |█████████████▎                  | 819kB 60.0MB/s eta 0:00:01\r\u001b[K    41% |█████████████▍                  | 829kB 63.5MB/s eta 0:00:01\r\u001b[K    42% |█████████████▋                  | 839kB 63.5MB/s eta 0:00:01\r\u001b[K    42% |█████████████▊                  | 849kB 63.5MB/s eta 0:00:01\r\u001b[K    43% |█████████████▉                  | 860kB 58.3MB/s eta 0:00:01\r\u001b[K    43% |██████████████                  | 870kB 57.4MB/s eta 0:00:01\r\u001b[K    44% |██████████████▏                 | 880kB 57.8MB/s eta 0:00:01\r\u001b[K    44% |██████████████▍                 | 890kB 59.2MB/s eta 0:00:01\r\u001b[K    45% |██████████████▌                 | 901kB 59.2MB/s eta 0:00:01\r\u001b[K    45% |██████████████▊                 | 911kB 58.4MB/s eta 0:00:01\r\u001b[K    46% |██████████████▉                 | 921kB 59.4MB/s eta 0:00:01\r\u001b[K    47% |███████████████                 | 931kB 58.8MB/s eta 0:00:01\r\u001b[K    47% |███████████████▏                | 942kB 59.3MB/s eta 0:00:01\r\u001b[K    48% |███████████████▍                | 952kB 59.8MB/s eta 0:00:01\r\u001b[K    48% |███████████████▌                | 962kB 65.9MB/s eta 0:00:01\r\u001b[K    49% |███████████████▊                | 972kB 65.7MB/s eta 0:00:01\r\u001b[K    49% |███████████████▉                | 983kB 65.5MB/s eta 0:00:01\r\u001b[K    50% |████████████████                | 993kB 67.0MB/s eta 0:00:01\r\u001b[K    50% |████████████████▏               | 1.0MB 68.4MB/s eta 0:00:01\r\u001b[K    51% |████████████████▍               | 1.0MB 66.4MB/s eta 0:00:01\r\u001b[K    51% |████████████████▌               | 1.0MB 63.7MB/s eta 0:00:01\r\u001b[K    52% |████████████████▊               | 1.0MB 60.4MB/s eta 0:00:01\r\u001b[K    52% |████████████████▉               | 1.0MB 61.0MB/s eta 0:00:01\r\u001b[K    53% |█████████████████               | 1.1MB 60.9MB/s eta 0:00:01\r\u001b[K    53% |█████████████████▏              | 1.1MB 60.4MB/s eta 0:00:01\r\u001b[K    54% |█████████████████▍              | 1.1MB 61.8MB/s eta 0:00:01\r\u001b[K    54% |█████████████████▌              | 1.1MB 61.6MB/s eta 0:00:01\r\u001b[K    55% |█████████████████▊              | 1.1MB 53.9MB/s eta 0:00:01\r\u001b[K    55% |█████████████████▉              | 1.1MB 53.4MB/s eta 0:00:01\r\u001b[K    56% |██████████████████              | 1.1MB 54.8MB/s eta 0:00:01\r\u001b[K    56% |██████████████████▏             | 1.1MB 56.8MB/s eta 0:00:01\r\u001b[K    57% |██████████████████▍             | 1.1MB 59.6MB/s eta 0:00:01\r\u001b[K    57% |██████████████████▌             | 1.1MB 55.1MB/s eta 0:00:01\r\u001b[K    58% |██████████████████▊             | 1.2MB 53.4MB/s eta 0:00:01\r\u001b[K    58% |██████████████████▉             | 1.2MB 53.4MB/s eta 0:00:01\r\u001b[K    59% |███████████████████             | 1.2MB 52.5MB/s eta 0:00:01\r\u001b[K    59% |███████████████████▏            | 1.2MB 52.1MB/s eta 0:00:01\r\u001b[K    60% |███████████████████▍            | 1.2MB 57.2MB/s eta 0:00:01\r\u001b[K    60% |███████████████████▌            | 1.2MB 57.6MB/s eta 0:00:01\r\u001b[K    61% |███████████████████▊            | 1.2MB 57.6MB/s eta 0:00:01\r\u001b[K    61% |███████████████████▉            | 1.2MB 57.6MB/s eta 0:00:01\r\u001b[K    62% |████████████████████            | 1.2MB 58.4MB/s eta 0:00:01\r\u001b[K    63% |████████████████████▏           | 1.2MB 63.0MB/s eta 0:00:01\r\u001b[K    63% |████████████████████▍           | 1.3MB 64.2MB/s eta 0:00:01\r\u001b[K    64% |████████████████████▌           | 1.3MB 62.5MB/s eta 0:00:01\r\u001b[K    64% |████████████████████▋           | 1.3MB 62.3MB/s eta 0:00:01\r\u001b[K    65% |████████████████████▉           | 1.3MB 63.0MB/s eta 0:00:01\r\u001b[K    65% |█████████████████████           | 1.3MB 63.3MB/s eta 0:00:01\r\u001b[K    66% |█████████████████████▏          | 1.3MB 62.7MB/s eta 0:00:01\r\u001b[K    66% |█████████████████████▎          | 1.3MB 63.3MB/s eta 0:00:01\r\u001b[K    67% |█████████████████████▌          | 1.3MB 62.3MB/s eta 0:00:01\r\u001b[K    67% |█████████████████████▋          | 1.3MB 62.2MB/s eta 0:00:01\r\u001b[K    68% |█████████████████████▉          | 1.4MB 62.1MB/s eta 0:00:01\r\u001b[K    68% |██████████████████████          | 1.4MB 62.8MB/s eta 0:00:01\r\u001b[K    69% |██████████████████████▏         | 1.4MB 64.8MB/s eta 0:00:01\r\u001b[K    69% |██████████████████████▎         | 1.4MB 65.0MB/s eta 0:00:01\r\u001b[K    70% |██████████████████████▌         | 1.4MB 63.9MB/s eta 0:00:01\r\u001b[K    70% |██████████████████████▋         | 1.4MB 45.6MB/s eta 0:00:01\r\u001b[K    71% |██████████████████████▉         | 1.4MB 45.1MB/s eta 0:00:01\r\u001b[K    71% |███████████████████████         | 1.4MB 44.4MB/s eta 0:00:01\r\u001b[K    72% |███████████████████████▏        | 1.4MB 44.2MB/s eta 0:00:01\r\u001b[K    72% |███████████████████████▎        | 1.4MB 43.2MB/s eta 0:00:01\r\u001b[K    73% |███████████████████████▌        | 1.5MB 43.2MB/s eta 0:00:01\r\u001b[K    73% |███████████████████████▋        | 1.5MB 43.0MB/s eta 0:00:01\r\u001b[K    74% |███████████████████████▉        | 1.5MB 41.9MB/s eta 0:00:01\r\u001b[K    74% |████████████████████████        | 1.5MB 42.3MB/s eta 0:00:01\r\u001b[K    75% |████████████████████████▏       | 1.5MB 42.7MB/s eta 0:00:01\r\u001b[K    75% |████████████████████████▎       | 1.5MB 59.1MB/s eta 0:00:01\r\u001b[K    76% |████████████████████████▌       | 1.5MB 60.2MB/s eta 0:00:01\r\u001b[K    76% |████████████████████████▋       | 1.5MB 60.0MB/s eta 0:00:01\r\u001b[K    77% |████████████████████████▉       | 1.5MB 59.7MB/s eta 0:00:01\r\u001b[K    78% |█████████████████████████       | 1.5MB 61.1MB/s eta 0:00:01\r\u001b[K    78% |█████████████████████████▏      | 1.6MB 60.3MB/s eta 0:00:01\r\u001b[K    79% |█████████████████████████▎      | 1.6MB 61.4MB/s eta 0:00:01\r\u001b[K    79% |█████████████████████████▌      | 1.6MB 53.8MB/s eta 0:00:01\r\u001b[K    80% |█████████████████████████▋      | 1.6MB 45.2MB/s eta 0:00:01\r\u001b[K    80% |█████████████████████████▉      | 1.6MB 45.2MB/s eta 0:00:01\r\u001b[K    81% |██████████████████████████      | 1.6MB 45.1MB/s eta 0:00:01\r\u001b[K    81% |██████████████████████████▏     | 1.6MB 44.9MB/s eta 0:00:01\r\u001b[K    82% |██████████████████████████▎     | 1.6MB 44.3MB/s eta 0:00:01\r\u001b[K    82% |██████████████████████████▌     | 1.6MB 44.6MB/s eta 0:00:01\r\u001b[K    83% |██████████████████████████▋     | 1.6MB 44.4MB/s eta 0:00:01\r\u001b[K    83% |██████████████████████████▉     | 1.7MB 44.5MB/s eta 0:00:01\r\u001b[K    84% |███████████████████████████     | 1.7MB 44.4MB/s eta 0:00:01\r\u001b[K    84% |███████████████████████████▏    | 1.7MB 50.4MB/s eta 0:00:01\r\u001b[K    85% |███████████████████████████▎    | 1.7MB 61.0MB/s eta 0:00:01\r\u001b[K    85% |███████████████████████████▍    | 1.7MB 62.1MB/s eta 0:00:01\r\u001b[K    86% |███████████████████████████▋    | 1.7MB 63.0MB/s eta 0:00:01\r\u001b[K    86% |███████████████████████████▊    | 1.7MB 63.3MB/s eta 0:00:01\r\u001b[K    87% |████████████████████████████    | 1.7MB 66.8MB/s eta 0:00:01\r\u001b[K    87% |████████████████████████████    | 1.7MB 67.2MB/s eta 0:00:01\r\u001b[K    88% |████████████████████████████▎   | 1.8MB 67.2MB/s eta 0:00:01\r\u001b[K    88% |████████████████████████████▍   | 1.8MB 68.2MB/s eta 0:00:01\r\u001b[K    89% |████████████████████████████▋   | 1.8MB 66.5MB/s eta 0:00:01\r\u001b[K    89% |████████████████████████████▊   | 1.8MB 66.7MB/s eta 0:00:01\r\u001b[K    90% |█████████████████████████████   | 1.8MB 67.0MB/s eta 0:00:01\r\u001b[K    90% |█████████████████████████████   | 1.8MB 65.5MB/s eta 0:00:01\r\u001b[K    91% |█████████████████████████████▎  | 1.8MB 63.9MB/s eta 0:00:01\r\u001b[K    91% |█████████████████████████████▍  | 1.8MB 64.3MB/s eta 0:00:01\r\u001b[K    92% |█████████████████████████████▋  | 1.8MB 63.3MB/s eta 0:00:01\r\u001b[K    92% |█████████████████████████████▊  | 1.8MB 61.8MB/s eta 0:00:01\r\u001b[K    93% |██████████████████████████████  | 1.9MB 62.3MB/s eta 0:00:01\r\u001b[K    94% |██████████████████████████████  | 1.9MB 62.1MB/s eta 0:00:01\r\u001b[K    94% |██████████████████████████████▎ | 1.9MB 62.9MB/s eta 0:00:01\r\u001b[K    95% |██████████████████████████████▍ | 1.9MB 63.3MB/s eta 0:00:01\r\u001b[K    95% |██████████████████████████████▋ | 1.9MB 64.0MB/s eta 0:00:01\r\u001b[K    96% |██████████████████████████████▊ | 1.9MB 64.5MB/s eta 0:00:01\r\u001b[K    96% |███████████████████████████████ | 1.9MB 66.4MB/s eta 0:00:01\r\u001b[K    97% |███████████████████████████████ | 1.9MB 66.2MB/s eta 0:00:01\r\u001b[K    97% |███████████████████████████████▎| 1.9MB 66.1MB/s eta 0:00:01\r\u001b[K    98% |███████████████████████████████▍| 1.9MB 68.3MB/s eta 0:00:01\r\u001b[K    98% |███████████████████████████████▋| 2.0MB 68.8MB/s eta 0:00:01\r\u001b[K    99% |███████████████████████████████▊| 2.0MB 68.7MB/s eta 0:00:01\r\u001b[K    99% |████████████████████████████████| 2.0MB 70.2MB/s eta 0:00:01\r\u001b[K    100% |████████████████████████████████| 2.0MB 14.1MB/s \n",
            "\u001b[?25hRequirement already satisfied: scipy in /usr/local/lib/python3.6/dist-packages (from visdom>=0.1.8.3->-r pytorch-CycleGAN-and-pix2pix/requirements.txt (line 4)) (1.1.0)\n",
            "Requirement already satisfied: requests in /usr/local/lib/python3.6/dist-packages (from visdom>=0.1.8.3->-r pytorch-CycleGAN-and-pix2pix/requirements.txt (line 4)) (2.18.4)\n",
            "Requirement already satisfied: tornado in /usr/local/lib/python3.6/dist-packages (from visdom>=0.1.8.3->-r pytorch-CycleGAN-and-pix2pix/requirements.txt (line 4)) (4.5.3)\n",
            "Requirement already satisfied: pyzmq in /usr/local/lib/python3.6/dist-packages (from visdom>=0.1.8.3->-r pytorch-CycleGAN-and-pix2pix/requirements.txt (line 4)) (17.0.0)\n",
            "Collecting torchfile (from visdom>=0.1.8.3->-r pytorch-CycleGAN-and-pix2pix/requirements.txt (line 4))\n",
            "  Downloading https://files.pythonhosted.org/packages/91/af/5b305f86f2d218091af657ddb53f984ecbd9518ca9fe8ef4103a007252c9/torchfile-0.1.0.tar.gz\n",
            "Collecting websocket-client (from visdom>=0.1.8.3->-r pytorch-CycleGAN-and-pix2pix/requirements.txt (line 4))\n",
            "\u001b[?25l  Downloading https://files.pythonhosted.org/packages/26/2d/f749a5c82f6192d77ed061a38e02001afcba55fe8477336d26a950ab17ce/websocket_client-0.54.0-py2.py3-none-any.whl (200kB)\n",
            "\u001b[K    100% |████████████████████████████████| 204kB 30.8MB/s \n",
            "\u001b[?25hRequirement already satisfied: chardet<3.1.0,>=3.0.2 in /usr/local/lib/python3.6/dist-packages (from requests->visdom>=0.1.8.3->-r pytorch-CycleGAN-and-pix2pix/requirements.txt (line 4)) (3.0.4)\n",
            "Requirement already satisfied: certifi>=2017.4.17 in /usr/local/lib/python3.6/dist-packages (from requests->visdom>=0.1.8.3->-r pytorch-CycleGAN-and-pix2pix/requirements.txt (line 4)) (2018.11.29)\n",
            "Requirement already satisfied: idna<2.7,>=2.5 in /usr/local/lib/python3.6/dist-packages (from requests->visdom>=0.1.8.3->-r pytorch-CycleGAN-and-pix2pix/requirements.txt (line 4)) (2.6)\n",
            "Requirement already satisfied: urllib3<1.23,>=1.21.1 in /usr/local/lib/python3.6/dist-packages (from requests->visdom>=0.1.8.3->-r pytorch-CycleGAN-and-pix2pix/requirements.txt (line 4)) (1.22)\n",
            "Building wheels for collected packages: visdom, torchfile\n",
            "  Building wheel for visdom (setup.py) ... \u001b[?25ldone\n",
            "\u001b[?25h  Stored in directory: /root/.cache/pip/wheels/ee/87/ce/a5023722374ca73b57fc8d4284ba6f973c01219b3c385a07e0\n",
            "  Building wheel for torchfile (setup.py) ... \u001b[?25ldone\n",
            "\u001b[?25h  Stored in directory: /root/.cache/pip/wheels/b1/c3/d6/9a1cc8f3a99a0fc1124cae20153f36af59a6e683daca0a0814\n",
            "Successfully built visdom torchfile\n",
            "\u001b[31mimgaug 0.2.8 has requirement numpy>=1.15.0, but you'll have numpy 1.14.6 which is incompatible.\u001b[0m\n",
            "\u001b[31malbumentations 0.1.12 has requirement imgaug<0.2.7,>=0.2.5, but you'll have imgaug 0.2.8 which is incompatible.\u001b[0m\n",
            "Installing collected packages: dominate, torchfile, websocket-client, pillow, visdom\n",
            "  Found existing installation: Pillow 4.0.0\n",
            "    Uninstalling Pillow-4.0.0:\n",
            "      Successfully uninstalled Pillow-4.0.0\n",
            "Successfully installed dominate-2.3.5 pillow-5.4.1 torchfile-0.1.0 visdom-0.1.8.8 websocket-client-0.54.0\n"
          ],
          "name": "stdout"
        },
        {
          "output_type": "display_data",
          "data": {
            "application/vnd.colab-display-data+json": {
              "pip_warning": {
                "packages": [
                  "PIL"
                ]
              }
            }
          },
          "metadata": {
            "tags": []
          }
        }
      ]
    },
    {
      "metadata": {
        "id": "-oi3dJxIW4fM",
        "colab_type": "code",
        "outputId": "95f8bbab-f947-4fdf-dffd-890c82ab2494",
        "colab": {
          "base_uri": "https://localhost:8080/",
          "height": 93
        }
      },
      "cell_type": "code",
      "source": [
        "!mkdir brownbear2polarbear\n",
        "#!mkdir brownbear2polarbear/trainA\n",
        "#!mkdir brownbear2polarbear/trainB\n",
        "!ls\n",
        "%cd brownbear2polarbear\n",
        "!ls\n",
        "!ls \"/content/gdrive/My Drive/Colab Notebooks/brownbear2polarbear/\"\n",
        "!unzip -o -qq \"/content/gdrive/My Drive/Colab Notebooks/brownbear2polarbear/trainA.zip\"\n",
        "#%cd ..\n",
        "#%cd trainB\n",
        "!unzip -o -qq \"/content/gdrive/My Drive/Colab Notebooks/brownbear2polarbear/trainB.zip\"\n",
        "%cd .."
      ],
      "execution_count": 0,
      "outputs": [
        {
          "output_type": "stream",
          "text": [
            "brownbear2polarbear  gdrive  pytorch-CycleGAN-and-pix2pix  sample_data\n",
            "/content/brownbear2polarbear\n",
            "testA  testA.zip  testB  testB.zip  trainA  trainA.zip\ttrainB\ttrainB.zip\n",
            "/content\n"
          ],
          "name": "stdout"
        }
      ]
    },
    {
      "metadata": {
        "id": "fKtJwSoM_Vln",
        "colab_type": "code",
        "colab": {}
      },
      "cell_type": "code",
      "source": [
        "# randomly shuffle the names of the files, as CycleGAN reads the files using os.walk in the default order, we need to shuffle to generalize the training set when using small dataset sizes\n",
        "import os\n",
        "import random\n",
        "seq = list(range(len(os.listdir(\"/content/brownbear2polarbear/trainA\"))))\n",
        "random.shuffle(seq)\n",
        "path = \"/content/brownbear2polarbear/trainA\"\n",
        "for image in os.listdir(\"/content/brownbear2polarbear/trainA\"):\n",
        "  os.rename(os.path.join(path, image), os.path.join(path, \"%s.jpg\" % seq.pop(0)))\n",
        "  \n",
        "  \n",
        "seq = list(range(len(os.listdir(\"/content/brownbear2polarbear/trainB\"))))\n",
        "random.shuffle(seq)\n",
        "path = \"/content/brownbear2polarbear/trainB\"\n",
        "for image in os.listdir(\"/content/brownbear2polarbear/trainB\"):\n",
        "  os.rename(os.path.join(path, image), os.path.join(path, \"%s.jpg\" % seq.pop(0)))\n",
        "\n"
      ],
      "execution_count": 0,
      "outputs": []
    },
    {
      "metadata": {
        "id": "aKwXCHzQ3RCG",
        "colab_type": "code",
        "outputId": "80f29e77-91e0-4c96-ac44-dd09f7015b11",
        "colab": {
          "base_uri": "https://localhost:8080/",
          "height": 55
        }
      },
      "cell_type": "code",
      "source": [
        "import os\n",
        "import datetime\n",
        "os.environ[\"output_directory\"] = \"gdrive/My Drive/Colab Notebooks/brownbear2polarbear_checkpoint_%s/\" % datetime.datetime.now()\n",
        "os.environ[\"directory_to_be_loaded\"] = \"gdrive/My Drive/Colab Notebooks/brownbear2polarbear_checkpoint/\"\n",
        "!echo saving checkpoint in $output_directory\n",
        "!echo will copy checkpoint to $directory_to_be_loaded"
      ],
      "execution_count": 0,
      "outputs": [
        {
          "output_type": "stream",
          "text": [
            "saving checkpoint in gdrive/My Drive/Colab Notebooks/brownbear2polarbear_checkpoint_2019-02-15 14:45:25.542304/\n",
            "will copy checkpoint to gdrive/My Drive/Colab Notebooks/brownbear2polarbear_checkpoint/\n"
          ],
          "name": "stdout"
        }
      ]
    },
    {
      "metadata": {
        "id": "NyX5GOulKrTL",
        "colab_type": "code",
        "outputId": "fd2d3df3-656c-4699-c9d7-3987373d7b9e",
        "colab": {
          "base_uri": "https://localhost:8080/",
          "height": 5196
        }
      },
      "cell_type": "code",
      "source": [
        "#!ln -s \"gdrive/My Drive/Colab Notebooks/checkpoints\" checkpoints\n",
        "#data_path = \"gdrive/My Drive/Colab Notebooks/brownbear2polarbear/\"\n",
        "checkpoint_path = \"gdrive/My Drive/Colab Notebooks/brownbear2polarbear_checkpoint/opt.txt\"\n",
        "if os.path.exists(checkpoint_path):\n",
        "  if not os.path.exists(\"/content/checkpoints\"):\n",
        "    !mkdir /content/checkpoints\n",
        "  if not os.path.exists(\"/content/checkpoints/brownbear2polarbear_cyclegan\"):\n",
        "    !mkdir /content/checkpoints/brownbear2polarbear_cyclegan\n",
        "  !cp \"gdrive/My Drive/Colab Notebooks/brownbear2polarbear_checkpoint/.\" /content/checkpoints/brownbear2polarbear_cyclegan/ -r\n",
        "  #!rm -rf /content/checkpoints/brownbear2polarbear_cyclegan/web/ -r\n",
        "  !time python pytorch-CycleGAN-and-pix2pix/train.py --dataroot /content/brownbear2polarbear --name brownbear2polarbear_cyclegan --model cycle_gan --continue_train --max_dataset_size 20 --save_epoch_freq 50\n",
        "else:\n",
        "  !time python pytorch-CycleGAN-and-pix2pix/train.py --dataroot /content/brownbear2polarbear --name brownbear2polarbear_cyclegan --model cycle_gan --max_dataset_size 20 --save_epoch_freq 50\n",
        "#!rm -rf \"gdrive/My Drive/Colab Notebooks/brownbear2polarbear_checkpoint/\"\n",
        "\n",
        "!mkdir \"$output_directory\"\n",
        "!cp /content/checkpoints/brownbear2polarbear_cyclegan/* \"$output_directory\" -r\n",
        "!rm -rf \"$directory_to_be_loaded\"\n",
        "!cp -r \"$output_directory\" \"$directory_to_be_loaded\"\n"
      ],
      "execution_count": 0,
      "outputs": [
        {
          "output_type": "stream",
          "text": [
            "----------------- Options ---------------\n",
            "               batch_size: 1                             \n",
            "                    beta1: 0.5                           \n",
            "          checkpoints_dir: ./checkpoints                 \n",
            "           continue_train: True                          \t[default: False]\n",
            "                crop_size: 256                           \n",
            "                 dataroot: /content/brownbear2polarbear  \t[default: None]\n",
            "             dataset_mode: unaligned                     \n",
            "                direction: AtoB                          \n",
            "              display_env: main                          \n",
            "             display_freq: 400                           \n",
            "               display_id: 1                             \n",
            "            display_ncols: 4                             \n",
            "             display_port: 8097                          \n",
            "           display_server: http://localhost              \n",
            "          display_winsize: 256                           \n",
            "                    epoch: latest                        \n",
            "              epoch_count: 1                             \n",
            "                 gan_mode: lsgan                         \n",
            "                  gpu_ids: 0                             \n",
            "                init_gain: 0.02                          \n",
            "                init_type: normal                        \n",
            "                 input_nc: 3                             \n",
            "                  isTrain: True                          \t[default: None]\n",
            "                 lambda_A: 10.0                          \n",
            "                 lambda_B: 10.0                          \n",
            "          lambda_identity: 0.5                           \n",
            "                load_iter: 0                             \t[default: 0]\n",
            "                load_size: 286                           \n",
            "                       lr: 0.0002                        \n",
            "           lr_decay_iters: 50                            \n",
            "                lr_policy: linear                        \n",
            "         max_dataset_size: 20                            \t[default: inf]\n",
            "                    model: cycle_gan                     \n",
            "               n_layers_D: 3                             \n",
            "                     name: brownbear2polarbear_cyclegan  \t[default: experiment_name]\n",
            "                      ndf: 64                            \n",
            "                     netD: basic                         \n",
            "                     netG: resnet_9blocks                \n",
            "                      ngf: 64                            \n",
            "                    niter: 100                           \n",
            "              niter_decay: 100                           \n",
            "               no_dropout: True                          \n",
            "                  no_flip: False                         \n",
            "                  no_html: False                         \n",
            "                     norm: instance                      \n",
            "              num_threads: 4                             \n",
            "                output_nc: 3                             \n",
            "                    phase: train                         \n",
            "                pool_size: 50                            \n",
            "               preprocess: resize_and_crop               \n",
            "               print_freq: 100                           \n",
            "             save_by_iter: False                         \n",
            "          save_epoch_freq: 50                            \t[default: 5]\n",
            "         save_latest_freq: 5000                          \n",
            "           serial_batches: False                         \n",
            "                   suffix:                               \n",
            "         update_html_freq: 1000                          \n",
            "                  verbose: False                         \n",
            "----------------- End -------------------\n",
            "dataset [UnalignedDataset] was created\n",
            "The number of training images = 20\n",
            "initialize network with normal\n",
            "initialize network with normal\n",
            "initialize network with normal\n",
            "initialize network with normal\n",
            "model [CycleGANModel] was created\n",
            "loading the model from ./checkpoints/brownbear2polarbear_cyclegan/latest_net_G_A.pth\n",
            "loading the model from ./checkpoints/brownbear2polarbear_cyclegan/latest_net_G_B.pth\n",
            "loading the model from ./checkpoints/brownbear2polarbear_cyclegan/latest_net_D_A.pth\n",
            "loading the model from ./checkpoints/brownbear2polarbear_cyclegan/latest_net_D_B.pth\n",
            "---------- Networks initialized -------------\n",
            "[Network G_A] Total number of parameters : 11.378 M\n",
            "[Network G_B] Total number of parameters : 11.378 M\n",
            "[Network D_A] Total number of parameters : 2.765 M\n",
            "[Network D_B] Total number of parameters : 2.765 M\n",
            "-----------------------------------------------\n",
            "WARNING:root:Setting up a new session...\n",
            "Exception in user code:\n",
            "------------------------------------------------------------\n",
            "Traceback (most recent call last):\n",
            "  File \"/usr/local/lib/python3.6/dist-packages/urllib3/connection.py\", line 141, in _new_conn\n",
            "    (self.host, self.port), self.timeout, **extra_kw)\n",
            "  File \"/usr/local/lib/python3.6/dist-packages/urllib3/util/connection.py\", line 83, in create_connection\n",
            "    raise err\n",
            "  File \"/usr/local/lib/python3.6/dist-packages/urllib3/util/connection.py\", line 73, in create_connection\n",
            "    sock.connect(sa)\n",
            "ConnectionRefusedError: [Errno 111] Connection refused\n",
            "\n",
            "During handling of the above exception, another exception occurred:\n",
            "\n",
            "Traceback (most recent call last):\n",
            "  File \"/usr/local/lib/python3.6/dist-packages/urllib3/connectionpool.py\", line 601, in urlopen\n",
            "    chunked=chunked)\n",
            "  File \"/usr/local/lib/python3.6/dist-packages/urllib3/connectionpool.py\", line 357, in _make_request\n",
            "    conn.request(method, url, **httplib_request_kw)\n",
            "  File \"/usr/lib/python3.6/http/client.py\", line 1239, in request\n",
            "    self._send_request(method, url, body, headers, encode_chunked)\n",
            "  File \"/usr/lib/python3.6/http/client.py\", line 1285, in _send_request\n",
            "    self.endheaders(body, encode_chunked=encode_chunked)\n",
            "  File \"/usr/lib/python3.6/http/client.py\", line 1234, in endheaders\n",
            "    self._send_output(message_body, encode_chunked=encode_chunked)\n",
            "  File \"/usr/lib/python3.6/http/client.py\", line 1026, in _send_output\n",
            "    self.send(msg)\n",
            "  File \"/usr/lib/python3.6/http/client.py\", line 964, in send\n",
            "    self.connect()\n",
            "  File \"/usr/local/lib/python3.6/dist-packages/urllib3/connection.py\", line 166, in connect\n",
            "    conn = self._new_conn()\n",
            "  File \"/usr/local/lib/python3.6/dist-packages/urllib3/connection.py\", line 150, in _new_conn\n",
            "    self, \"Failed to establish a new connection: %s\" % e)\n",
            "urllib3.exceptions.NewConnectionError: <urllib3.connection.HTTPConnection object at 0x7f550c7ba208>: Failed to establish a new connection: [Errno 111] Connection refused\n",
            "\n",
            "During handling of the above exception, another exception occurred:\n",
            "\n",
            "Traceback (most recent call last):\n",
            "  File \"/usr/local/lib/python3.6/dist-packages/requests/adapters.py\", line 440, in send\n",
            "    timeout=timeout\n",
            "  File \"/usr/local/lib/python3.6/dist-packages/urllib3/connectionpool.py\", line 639, in urlopen\n",
            "    _stacktrace=sys.exc_info()[2])\n",
            "  File \"/usr/local/lib/python3.6/dist-packages/urllib3/util/retry.py\", line 388, in increment\n",
            "    raise MaxRetryError(_pool, url, error or ResponseError(cause))\n",
            "urllib3.exceptions.MaxRetryError: HTTPConnectionPool(host='localhost', port=8097): Max retries exceeded with url: /env/main (Caused by NewConnectionError('<urllib3.connection.HTTPConnection object at 0x7f550c7ba208>: Failed to establish a new connection: [Errno 111] Connection refused',))\n",
            "\n",
            "During handling of the above exception, another exception occurred:\n",
            "\n",
            "Traceback (most recent call last):\n",
            "  File \"/usr/local/lib/python3.6/dist-packages/visdom/__init__.py\", line 548, in _send\n",
            "    data=json.dumps(msg),\n",
            "  File \"/usr/local/lib/python3.6/dist-packages/requests/sessions.py\", line 555, in post\n",
            "    return self.request('POST', url, data=data, json=json, **kwargs)\n",
            "  File \"/usr/local/lib/python3.6/dist-packages/requests/sessions.py\", line 508, in request\n",
            "    resp = self.send(prep, **send_kwargs)\n",
            "  File \"/usr/local/lib/python3.6/dist-packages/requests/sessions.py\", line 618, in send\n",
            "    r = adapter.send(request, **kwargs)\n",
            "  File \"/usr/local/lib/python3.6/dist-packages/requests/adapters.py\", line 508, in send\n",
            "    raise ConnectionError(e, request=request)\n",
            "requests.exceptions.ConnectionError: HTTPConnectionPool(host='localhost', port=8097): Max retries exceeded with url: /env/main (Caused by NewConnectionError('<urllib3.connection.HTTPConnection object at 0x7f550c7ba208>: Failed to establish a new connection: [Errno 111] Connection refused',))\n",
            "ERROR:visdom:[Errno 111] Connection refused\n",
            "\n",
            "\n",
            "Could not connect to Visdom server. \n",
            " Trying to start a server....\n",
            "Command: /usr/bin/python3 -m visdom.server -p 8097 &>/dev/null &\n",
            "create web directory ./checkpoints/brownbear2polarbear_cyclegan/web...\n",
            "End of epoch 1 / 200 \t Time Taken: 32 sec\n",
            "learning rate = 0.0002000\n",
            "End of epoch 2 / 200 \t Time Taken: 27 sec\n",
            "learning rate = 0.0002000\n",
            "End of epoch 3 / 200 \t Time Taken: 27 sec\n",
            "learning rate = 0.0002000\n",
            "End of epoch 4 / 200 \t Time Taken: 27 sec\n",
            "learning rate = 0.0002000\n",
            "(epoch: 5, iters: 20, time: 1.350, data: 0.250) D_A: 0.142 G_A: 0.522 cycle_A: 1.131 idt_A: 0.249 D_B: 0.113 G_B: 0.506 cycle_B: 0.687 idt_B: 0.495 \n",
            "End of epoch 5 / 200 \t Time Taken: 27 sec\n",
            "learning rate = 0.0002000\n",
            "End of epoch 6 / 200 \t Time Taken: 27 sec\n",
            "learning rate = 0.0002000\n",
            "End of epoch 7 / 200 \t Time Taken: 27 sec\n",
            "learning rate = 0.0002000\n",
            "End of epoch 8 / 200 \t Time Taken: 27 sec\n",
            "learning rate = 0.0002000\n",
            "End of epoch 9 / 200 \t Time Taken: 27 sec\n",
            "learning rate = 0.0002000\n",
            "(epoch: 10, iters: 20, time: 1.356, data: 0.300) D_A: 0.092 G_A: 0.761 cycle_A: 0.516 idt_A: 0.236 D_B: 0.115 G_B: 0.522 cycle_B: 0.603 idt_B: 0.215 \n",
            "End of epoch 10 / 200 \t Time Taken: 27 sec\n",
            "learning rate = 0.0002000\n",
            "End of epoch 11 / 200 \t Time Taken: 27 sec\n",
            "learning rate = 0.0002000\n",
            "End of epoch 12 / 200 \t Time Taken: 27 sec\n",
            "learning rate = 0.0002000\n",
            "End of epoch 13 / 200 \t Time Taken: 27 sec\n",
            "learning rate = 0.0002000\n",
            "End of epoch 14 / 200 \t Time Taken: 27 sec\n",
            "learning rate = 0.0002000\n",
            "(epoch: 15, iters: 20, time: 1.362, data: 0.298) D_A: 0.169 G_A: 0.520 cycle_A: 0.533 idt_A: 0.979 D_B: 0.083 G_B: 0.450 cycle_B: 1.209 idt_B: 0.208 \n",
            "End of epoch 15 / 200 \t Time Taken: 27 sec\n",
            "learning rate = 0.0002000\n",
            "End of epoch 16 / 200 \t Time Taken: 27 sec\n",
            "learning rate = 0.0002000\n",
            "End of epoch 17 / 200 \t Time Taken: 27 sec\n",
            "learning rate = 0.0002000\n",
            "End of epoch 18 / 200 \t Time Taken: 27 sec\n",
            "learning rate = 0.0002000\n",
            "End of epoch 19 / 200 \t Time Taken: 27 sec\n",
            "learning rate = 0.0002000\n",
            "(epoch: 20, iters: 20, time: 1.928, data: 0.252) D_A: 0.076 G_A: 0.611 cycle_A: 0.543 idt_A: 0.244 D_B: 0.088 G_B: 0.810 cycle_B: 0.748 idt_B: 0.222 \n",
            "End of epoch 20 / 200 \t Time Taken: 27 sec\n",
            "learning rate = 0.0002000\n",
            "End of epoch 21 / 200 \t Time Taken: 27 sec\n",
            "learning rate = 0.0002000\n",
            "End of epoch 22 / 200 \t Time Taken: 27 sec\n",
            "learning rate = 0.0002000\n",
            "End of epoch 23 / 200 \t Time Taken: 27 sec\n",
            "learning rate = 0.0002000\n",
            "End of epoch 24 / 200 \t Time Taken: 27 sec\n",
            "learning rate = 0.0002000\n",
            "(epoch: 25, iters: 20, time: 1.356, data: 0.209) D_A: 0.132 G_A: 0.379 cycle_A: 0.526 idt_A: 0.210 D_B: 0.149 G_B: 0.483 cycle_B: 0.445 idt_B: 0.211 \n",
            "End of epoch 25 / 200 \t Time Taken: 27 sec\n",
            "learning rate = 0.0002000\n",
            "End of epoch 26 / 200 \t Time Taken: 27 sec\n",
            "learning rate = 0.0002000\n",
            "End of epoch 27 / 200 \t Time Taken: 27 sec\n",
            "learning rate = 0.0002000\n",
            "End of epoch 28 / 200 \t Time Taken: 27 sec\n",
            "learning rate = 0.0002000\n",
            "End of epoch 29 / 200 \t Time Taken: 27 sec\n",
            "learning rate = 0.0002000\n",
            "(epoch: 30, iters: 20, time: 1.348, data: 0.193) D_A: 0.060 G_A: 0.667 cycle_A: 0.622 idt_A: 0.177 D_B: 0.196 G_B: 0.444 cycle_B: 0.576 idt_B: 0.211 \n",
            "End of epoch 30 / 200 \t Time Taken: 27 sec\n",
            "learning rate = 0.0002000\n",
            "End of epoch 31 / 200 \t Time Taken: 27 sec\n",
            "learning rate = 0.0002000\n",
            "End of epoch 32 / 200 \t Time Taken: 27 sec\n",
            "learning rate = 0.0002000\n",
            "End of epoch 33 / 200 \t Time Taken: 27 sec\n",
            "learning rate = 0.0002000\n",
            "End of epoch 34 / 200 \t Time Taken: 27 sec\n",
            "learning rate = 0.0002000\n",
            "(epoch: 35, iters: 20, time: 1.355, data: 0.219) D_A: 0.138 G_A: 0.344 cycle_A: 0.557 idt_A: 0.271 D_B: 0.185 G_B: 0.545 cycle_B: 0.469 idt_B: 0.224 \n",
            "End of epoch 35 / 200 \t Time Taken: 27 sec\n",
            "learning rate = 0.0002000\n",
            "End of epoch 36 / 200 \t Time Taken: 27 sec\n",
            "learning rate = 0.0002000\n",
            "End of epoch 37 / 200 \t Time Taken: 27 sec\n",
            "learning rate = 0.0002000\n",
            "End of epoch 38 / 200 \t Time Taken: 27 sec\n",
            "learning rate = 0.0002000\n",
            "End of epoch 39 / 200 \t Time Taken: 27 sec\n",
            "learning rate = 0.0002000\n",
            "(epoch: 40, iters: 20, time: 2.061, data: 0.265) D_A: 0.177 G_A: 0.897 cycle_A: 0.631 idt_A: 0.226 D_B: 0.229 G_B: 0.276 cycle_B: 0.689 idt_B: 0.230 \n",
            "End of epoch 40 / 200 \t Time Taken: 27 sec\n",
            "learning rate = 0.0002000\n",
            "End of epoch 41 / 200 \t Time Taken: 27 sec\n",
            "learning rate = 0.0002000\n",
            "End of epoch 42 / 200 \t Time Taken: 27 sec\n",
            "learning rate = 0.0002000\n",
            "End of epoch 43 / 200 \t Time Taken: 27 sec\n",
            "learning rate = 0.0002000\n",
            "End of epoch 44 / 200 \t Time Taken: 27 sec\n",
            "learning rate = 0.0002000\n",
            "(epoch: 45, iters: 20, time: 1.355, data: 0.210) D_A: 0.154 G_A: 0.348 cycle_A: 0.629 idt_A: 0.304 D_B: 0.088 G_B: 0.398 cycle_B: 0.630 idt_B: 0.226 \n",
            "End of epoch 45 / 200 \t Time Taken: 27 sec\n",
            "learning rate = 0.0002000\n",
            "End of epoch 46 / 200 \t Time Taken: 27 sec\n",
            "learning rate = 0.0002000\n",
            "End of epoch 47 / 200 \t Time Taken: 27 sec\n",
            "learning rate = 0.0002000\n",
            "End of epoch 48 / 200 \t Time Taken: 27 sec\n",
            "learning rate = 0.0002000\n",
            "End of epoch 49 / 200 \t Time Taken: 27 sec\n",
            "learning rate = 0.0002000\n",
            "(epoch: 50, iters: 20, time: 1.351, data: 0.233) D_A: 0.212 G_A: 0.746 cycle_A: 0.723 idt_A: 0.235 D_B: 0.141 G_B: 0.646 cycle_B: 1.743 idt_B: 0.268 \n",
            "saving the model at the end of epoch 50, iters 1000\n",
            "End of epoch 50 / 200 \t Time Taken: 27 sec\n",
            "learning rate = 0.0002000\n",
            "End of epoch 51 / 200 \t Time Taken: 27 sec\n",
            "learning rate = 0.0002000\n",
            "End of epoch 52 / 200 \t Time Taken: 27 sec\n",
            "learning rate = 0.0002000\n",
            "End of epoch 53 / 200 \t Time Taken: 27 sec\n",
            "learning rate = 0.0002000\n",
            "End of epoch 54 / 200 \t Time Taken: 27 sec\n",
            "learning rate = 0.0002000\n",
            "(epoch: 55, iters: 20, time: 1.363, data: 0.276) D_A: 0.197 G_A: 0.229 cycle_A: 0.574 idt_A: 0.158 D_B: 0.155 G_B: 0.854 cycle_B: 0.522 idt_B: 0.204 \n",
            "End of epoch 55 / 200 \t Time Taken: 27 sec\n",
            "learning rate = 0.0002000\n",
            "End of epoch 56 / 200 \t Time Taken: 27 sec\n",
            "learning rate = 0.0002000\n",
            "End of epoch 57 / 200 \t Time Taken: 27 sec\n",
            "learning rate = 0.0002000\n"
          ],
          "name": "stdout"
        }
      ]
    },
    {
      "metadata": {
        "id": "14ieELR1_QEp",
        "colab_type": "code",
        "colab": {}
      },
      "cell_type": "code",
      "source": [
        ""
      ],
      "execution_count": 0,
      "outputs": []
    },
    {
      "metadata": {
        "id": "d6aNELt0LI_s",
        "colab_type": "code",
        "colab": {}
      },
      "cell_type": "code",
      "source": [
        "!ls /content/checkpoints/brownbear2polarbear_cyclegan/web/images"
      ],
      "execution_count": 0,
      "outputs": []
    },
    {
      "metadata": {
        "id": "vzM9je5VgqBX",
        "colab_type": "code",
        "colab": {}
      },
      "cell_type": "code",
      "source": [
        "import matplotlib.pyplot as plt\n",
        "%matplotlib inline\n",
        "path = \"/content/checkpoints/brownbear2polarbear_cyclegan/web/images\"\n",
        "for image in os.listdir(path):\n",
        "  plt.imshow(plt.imread(os.path.join(path, image)))\n",
        "  plt.show()\n"
      ],
      "execution_count": 0,
      "outputs": []
    },
    {
      "metadata": {
        "id": "W3aejs8ONsk5",
        "colab_type": "code",
        "colab": {}
      },
      "cell_type": "code",
      "source": [
        "%cd brownbear2polarbear\n",
        "!ls\n",
        "!ls \"/content/gdrive/My Drive/Colab Notebooks/brownbear2polarbear/\"\n",
        "!unzip -o -qq \"/content/gdrive/My Drive/Colab Notebooks/brownbear2polarbear/testA.zip\"\n",
        "!unzip -o -qq \"/content/gdrive/My Drive/Colab Notebooks/brownbear2polarbear/testB.zip\"\n",
        "%cd .."
      ],
      "execution_count": 0,
      "outputs": []
    },
    {
      "metadata": {
        "id": "7QJKEEkELJvn",
        "colab_type": "code",
        "colab": {}
      },
      "cell_type": "code",
      "source": [
        "!time python pytorch-CycleGAN-and-pix2pix/test.py --dataroot /content/brownbear2polarbear --name brownbear2polarbear_cyclegan --model cycle_gan --num_test 155"
      ],
      "execution_count": 0,
      "outputs": []
    },
    {
      "metadata": {
        "id": "6utfjedbN9pX",
        "colab_type": "code",
        "colab": {}
      },
      "cell_type": "code",
      "source": [
        "!rm -rf \"gdrive/My Drive/Colab Notebooks/brownbear2polarbear_results/\"\n",
        "!mkdir \"gdrive/My Drive/Colab Notebooks/brownbear2polarbear_results/\"\n",
        "!cp -r /content/results/brownbear2polarbear_cyclegan/. \"gdrive/My Drive/Colab Notebooks/brownbear2polarbear_results/\""
      ],
      "execution_count": 0,
      "outputs": []
    },
    {
      "metadata": {
        "id": "SS7AAc3kVbw4",
        "colab_type": "code",
        "colab": {}
      },
      "cell_type": "code",
      "source": [
        ""
      ],
      "execution_count": 0,
      "outputs": []
    }
  ]
}